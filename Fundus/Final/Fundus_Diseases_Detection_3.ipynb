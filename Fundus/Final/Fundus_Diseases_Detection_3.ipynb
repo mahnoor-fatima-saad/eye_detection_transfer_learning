{
  "nbformat": 4,
  "nbformat_minor": 0,
  "metadata": {
    "colab": {
      "name": "Fundus-Diseases-4-2.ipynb",
      "provenance": []
    },
    "kernelspec": {
      "name": "python3",
      "display_name": "Python 3"
    },
    "accelerator": "GPU"
  },
  "cells": [
    {
      "cell_type": "markdown",
      "metadata": {
        "id": "0D3ZLzxH_IIB"
      },
      "source": [
        "# Fundus Disease Detection - V2\r\n"
      ]
    },
    {
      "cell_type": "markdown",
      "metadata": {
        "id": "V8PXQRRR_e9p"
      },
      "source": [
        "Mount Drive"
      ]
    },
    {
      "cell_type": "code",
      "metadata": {
        "colab": {
          "base_uri": "https://localhost:8080/"
        },
        "id": "iIED2AX--9Gj",
        "outputId": "2f8fe6f3-a79c-4efd-8f3f-5d7a29215c83"
      },
      "source": [
        "from google.colab import drive\r\n",
        "drive.mount('/content/gdrive')"
      ],
      "execution_count": 13,
      "outputs": [
        {
          "output_type": "stream",
          "text": [
            "Drive already mounted at /content/gdrive; to attempt to forcibly remount, call drive.mount(\"/content/gdrive\", force_remount=True).\n"
          ],
          "name": "stdout"
        }
      ]
    },
    {
      "cell_type": "code",
      "metadata": {
        "id": "0Uj2U8M__UkC"
      },
      "source": [
        "import os\r\n",
        "os.environ['KAGGLE_CONFIG_DIR'] = \"/content/gdrive/My Drive/Kaggle\""
      ],
      "execution_count": 4,
      "outputs": []
    },
    {
      "cell_type": "code",
      "metadata": {
        "colab": {
          "base_uri": "https://localhost:8080/"
        },
        "id": "ku8F63HM_WmB",
        "outputId": "f8c0ea41-34bc-4768-89bc-8d703aa8b514"
      },
      "source": [
        "%cd /content/gdrive/My Drive/Kaggle"
      ],
      "execution_count": 5,
      "outputs": [
        {
          "output_type": "stream",
          "text": [
            "/content/gdrive/My Drive/Kaggle\n"
          ],
          "name": "stdout"
        }
      ]
    },
    {
      "cell_type": "code",
      "metadata": {
        "id": "1UeBW_7n_YOy"
      },
      "source": [
        "!mkdir images"
      ],
      "execution_count": 6,
      "outputs": []
    },
    {
      "cell_type": "code",
      "metadata": {
        "id": "Qv-0hlrhAfSk",
        "colab": {
          "base_uri": "https://localhost:8080/"
        },
        "outputId": "3b00a228-e552-4152-fad0-fa2a1c4352b2"
      },
      "source": [
        "!ls"
      ],
      "execution_count": 7,
      "outputs": [
        {
          "output_type": "stream",
          "text": [
            "categorized_disorders  categorized_images  images  models\n"
          ],
          "name": "stdout"
        }
      ]
    },
    {
      "cell_type": "code",
      "metadata": {
        "colab": {
          "base_uri": "https://localhost:8080/",
          "height": 35
        },
        "id": "4k8_5T_JI7DU",
        "outputId": "36b3f481-c4fd-4e63-9d30-344f071471d6"
      },
      "source": [
        "pwd"
      ],
      "execution_count": null,
      "outputs": [
        {
          "output_type": "execute_result",
          "data": {
            "application/vnd.google.colaboratory.intrinsic+json": {
              "type": "string"
            },
            "text/plain": [
              "'/content/gdrive/My Drive/Kaggle'"
            ]
          },
          "metadata": {
            "tags": []
          },
          "execution_count": 9
        }
      ]
    },
    {
      "cell_type": "markdown",
      "metadata": {
        "id": "uVtZYPEy_FuD"
      },
      "source": [
        "Data preparation"
      ]
    },
    {
      "cell_type": "code",
      "metadata": {
        "id": "fTNYrD1DDtK9"
      },
      "source": [
        "import tensorflow as tf \r\n",
        "\r\n",
        "datagen = tf.keras.preprocessing.image.ImageDataGenerator(\r\n",
        "    featurewise_center=False,\r\n",
        "    samplewise_center=False,\r\n",
        "    featurewise_std_normalization=False,\r\n",
        "    samplewise_std_normalization=False,\r\n",
        "    zca_whitening=False,\r\n",
        "    zca_epsilon=1e-06,\r\n",
        "    rotation_range=0,\r\n",
        "    width_shift_range=0.0,\r\n",
        "    height_shift_range=0.0,\r\n",
        "    brightness_range=None,\r\n",
        "    shear_range=0.0,\r\n",
        "    zoom_range=0.0,\r\n",
        "    channel_shift_range=0.0,\r\n",
        "    fill_mode=\"nearest\",\r\n",
        "    cval=0.0,\r\n",
        "    horizontal_flip=False,\r\n",
        "    vertical_flip=False,\r\n",
        "    preprocessing_function=None,\r\n",
        "    data_format=None,\r\n",
        "    validation_split=0.05,\r\n",
        "    dtype=None,\r\n",
        "    rescale = 1.0/255.0\r\n",
        "    # rescale = None\r\n",
        ")"
      ],
      "execution_count": 8,
      "outputs": []
    },
    {
      "cell_type": "code",
      "metadata": {
        "colab": {
          "base_uri": "https://localhost:8080/"
        },
        "id": "1CxAdcOJDycy",
        "outputId": "00a5b4db-7f77-4265-e976-29026aa571d9"
      },
      "source": [
        "dire = '/content/gdrive/MyDrive/Kaggle/categorized_images'\r\n",
        "\r\n",
        "train_generator = datagen.flow_from_directory(\r\n",
        "    dire,\r\n",
        "    batch_size=32,\r\n",
        "    class_mode='categorical',                           \r\n",
        "    target_size=(224,224),\r\n",
        "    subset='training'\r\n",
        ")\r\n",
        "\r\n",
        "test_generator = datagen.flow_from_directory(\r\n",
        "    dire,\r\n",
        "    batch_size=32,\r\n",
        "    class_mode='categorical',                           \r\n",
        "    target_size=(224,224),\r\n",
        "    subset='validation'\r\n",
        ")"
      ],
      "execution_count": 9,
      "outputs": [
        {
          "output_type": "stream",
          "text": [
            "Found 1188 images belonging to 3 classes.\n",
            "Found 61 images belonging to 3 classes.\n"
          ],
          "name": "stdout"
        }
      ]
    },
    {
      "cell_type": "markdown",
      "metadata": {
        "id": "qCsFK0jaD_ga"
      },
      "source": [
        "Model"
      ]
    },
    {
      "cell_type": "code",
      "metadata": {
        "colab": {
          "base_uri": "https://localhost:8080/"
        },
        "id": "DUDAWQwqEout",
        "outputId": "9400440c-477e-48e7-fc0e-d93bfc78ac74"
      },
      "source": [
        "from keras.applications.resnet_v2 import ResNet152V2\r\n",
        "\r\n",
        "base = ResNet152V2(\r\n",
        "    weights = 'imagenet',\r\n",
        "    include_top = False, \r\n",
        "    input_shape = (224,224,3)\r\n",
        ")"
      ],
      "execution_count": 33,
      "outputs": [
        {
          "output_type": "stream",
          "text": [
            "Downloading data from https://storage.googleapis.com/tensorflow/keras-applications/resnet/resnet152v2_weights_tf_dim_ordering_tf_kernels_notop.h5\n",
            "234553344/234545216 [==============================] - 2s 0us/step\n"
          ],
          "name": "stdout"
        }
      ]
    },
    {
      "cell_type": "code",
      "metadata": {
        "id": "SgBJXCWLFRm4"
      },
      "source": [
        "for layer in base.layers:\r\n",
        "    layer.trainable = False"
      ],
      "execution_count": 34,
      "outputs": []
    },
    {
      "cell_type": "code",
      "metadata": {
        "id": "iK5lkYFRD8Oi"
      },
      "source": [
        "from tensorflow.keras import Sequential\r\n",
        "from keras import layers\r\n",
        "from tensorflow.keras.layers import Flatten, Dense\r\n",
        "\r\n",
        "model = Sequential()\r\n",
        "\r\n",
        "model.add(base)\r\n",
        "\r\n",
        "model.add(Flatten())\r\n",
        "\r\n",
        "model.add(Dense(512, activation='relu'))\r\n",
        "model.add(layers.Dropout(rate=0.5))\r\n",
        "\r\n",
        "model.add(Dense(256, activation='relu'))\r\n",
        "model.add(layers.Dropout(rate=0.3))\r\n",
        "\r\n",
        "model.add(Dense(128, activation='relu'))\r\n",
        "model.add(layers.Dropout(rate=0.1))\r\n",
        "\r\n",
        "model.add(Flatten())\r\n",
        "\r\n",
        "model.add(Dense(3, activation=\"softmax\"))"
      ],
      "execution_count": 35,
      "outputs": []
    },
    {
      "cell_type": "code",
      "metadata": {
        "colab": {
          "base_uri": "https://localhost:8080/"
        },
        "id": "5CHd9h1bEDcT",
        "outputId": "0e3ca62c-9a0b-4cc0-cb6e-dafc586be668"
      },
      "source": [
        "model.summary()"
      ],
      "execution_count": 36,
      "outputs": [
        {
          "output_type": "stream",
          "text": [
            "Model: \"sequential_2\"\n",
            "_________________________________________________________________\n",
            "Layer (type)                 Output Shape              Param #   \n",
            "=================================================================\n",
            "resnet152v2 (Functional)     (None, 7, 7, 2048)        58331648  \n",
            "_________________________________________________________________\n",
            "flatten_4 (Flatten)          (None, 100352)            0         \n",
            "_________________________________________________________________\n",
            "dense_8 (Dense)              (None, 512)               51380736  \n",
            "_________________________________________________________________\n",
            "dropout_6 (Dropout)          (None, 512)               0         \n",
            "_________________________________________________________________\n",
            "dense_9 (Dense)              (None, 256)               131328    \n",
            "_________________________________________________________________\n",
            "dropout_7 (Dropout)          (None, 256)               0         \n",
            "_________________________________________________________________\n",
            "dense_10 (Dense)             (None, 128)               32896     \n",
            "_________________________________________________________________\n",
            "dropout_8 (Dropout)          (None, 128)               0         \n",
            "_________________________________________________________________\n",
            "flatten_5 (Flatten)          (None, 128)               0         \n",
            "_________________________________________________________________\n",
            "dense_11 (Dense)             (None, 3)                 387       \n",
            "=================================================================\n",
            "Total params: 109,876,995\n",
            "Trainable params: 51,545,347\n",
            "Non-trainable params: 58,331,648\n",
            "_________________________________________________________________\n"
          ],
          "name": "stdout"
        }
      ]
    },
    {
      "cell_type": "code",
      "metadata": {
        "id": "l8kLCRwC5Pva"
      },
      "source": [
        "from tensorflow import keras\r\n",
        "\r\n",
        "model.compile(optimizer=keras.optimizers.Adam(),\r\n",
        "              loss=keras.losses.CategoricalCrossentropy(from_logits=True),\r\n",
        "              metrics=[keras.metrics.CategoricalAccuracy()])"
      ],
      "execution_count": 37,
      "outputs": []
    },
    {
      "cell_type": "code",
      "metadata": {
        "colab": {
          "base_uri": "https://localhost:8080/"
        },
        "id": "ypWYBgfNEGYb",
        "outputId": "17a7aa36-f7ad-4e38-a12b-45e7780059f1"
      },
      "source": [
        "!nvidia-smi"
      ],
      "execution_count": 25,
      "outputs": [
        {
          "output_type": "stream",
          "text": [
            "Mon Mar  8 17:08:13 2021       \n",
            "+-----------------------------------------------------------------------------+\n",
            "| NVIDIA-SMI 460.39       Driver Version: 460.32.03    CUDA Version: 11.2     |\n",
            "|-------------------------------+----------------------+----------------------+\n",
            "| GPU  Name        Persistence-M| Bus-Id        Disp.A | Volatile Uncorr. ECC |\n",
            "| Fan  Temp  Perf  Pwr:Usage/Cap|         Memory-Usage | GPU-Util  Compute M. |\n",
            "|                               |                      |               MIG M. |\n",
            "|===============================+======================+======================|\n",
            "|   0  Tesla T4            Off  | 00000000:00:04.0 Off |                    0 |\n",
            "| N/A   46C    P0    27W /  70W |    734MiB / 15109MiB |      0%      Default |\n",
            "|                               |                      |                  N/A |\n",
            "+-------------------------------+----------------------+----------------------+\n",
            "                                                                               \n",
            "+-----------------------------------------------------------------------------+\n",
            "| Processes:                                                                  |\n",
            "|  GPU   GI   CI        PID   Type   Process name                  GPU Memory |\n",
            "|        ID   ID                                                   Usage      |\n",
            "|=============================================================================|\n",
            "+-----------------------------------------------------------------------------+\n"
          ],
          "name": "stdout"
        }
      ]
    },
    {
      "cell_type": "code",
      "metadata": {
        "colab": {
          "base_uri": "https://localhost:8080/"
        },
        "id": "vgGz_6h0EHDS",
        "outputId": "af29cb4b-948a-46ca-e8f3-9e96ea8c37d2"
      },
      "source": [
        "from tensorflow.python.client import device_lib\r\n",
        "print(device_lib.list_local_devices())"
      ],
      "execution_count": null,
      "outputs": [
        {
          "output_type": "stream",
          "text": [
            "[name: \"/device:CPU:0\"\n",
            "device_type: \"CPU\"\n",
            "memory_limit: 268435456\n",
            "locality {\n",
            "}\n",
            "incarnation: 1382013267021190254\n",
            ", name: \"/device:GPU:0\"\n",
            "device_type: \"GPU\"\n",
            "memory_limit: 14674281152\n",
            "locality {\n",
            "  bus_id: 1\n",
            "  links {\n",
            "  }\n",
            "}\n",
            "incarnation: 17464965385280256689\n",
            "physical_device_desc: \"device: 0, name: Tesla T4, pci bus id: 0000:00:04.0, compute capability: 7.5\"\n",
            "]\n"
          ],
          "name": "stdout"
        }
      ]
    },
    {
      "cell_type": "code",
      "metadata": {
        "colab": {
          "base_uri": "https://localhost:8080/"
        },
        "id": "thXpjLGGELfD",
        "outputId": "ebc19d8d-5cfd-49a1-e94a-68db96270411"
      },
      "source": [
        "# from tensorflow import test\r\n",
        "# test.is_gpu_available()\r\n",
        "\r\n",
        "from tensorflow import config\r\n",
        "\r\n",
        "config.list_physical_devices('GPU')"
      ],
      "execution_count": null,
      "outputs": [
        {
          "output_type": "execute_result",
          "data": {
            "text/plain": [
              "[PhysicalDevice(name='/physical_device:GPU:0', device_type='GPU')]"
            ]
          },
          "metadata": {
            "tags": []
          },
          "execution_count": 15
        }
      ]
    },
    {
      "cell_type": "code",
      "metadata": {
        "colab": {
          "base_uri": "https://localhost:8080/"
        },
        "id": "OA_3wCfeK7KQ",
        "outputId": "ba6c2856-4afe-45fd-c64c-3c39c35e8367"
      },
      "source": [
        "from tensorflow import test\r\n",
        "test.is_gpu_available()"
      ],
      "execution_count": 26,
      "outputs": [
        {
          "output_type": "stream",
          "text": [
            "WARNING:tensorflow:From <ipython-input-26-37a9298fa9cc>:2: is_gpu_available (from tensorflow.python.framework.test_util) is deprecated and will be removed in a future version.\n",
            "Instructions for updating:\n",
            "Use `tf.config.list_physical_devices('GPU')` instead.\n"
          ],
          "name": "stdout"
        },
        {
          "output_type": "execute_result",
          "data": {
            "text/plain": [
              "True"
            ]
          },
          "metadata": {
            "tags": []
          },
          "execution_count": 26
        }
      ]
    },
    {
      "cell_type": "code",
      "metadata": {
        "colab": {
          "base_uri": "https://localhost:8080/"
        },
        "id": "08iqNT-LEOiz",
        "outputId": "fba98aad-ce67-4e79-ff42-f382fec5365e"
      },
      "source": [
        "from tensorflow.keras.callbacks import  EarlyStopping\r\n",
        "\r\n",
        "stop_acc = EarlyStopping(monitor = \"categorical_accuracy\", min_delta = 0.0001, patience = 10, restore_best_weights = True, mode='auto')\r\n",
        "stop_loss = EarlyStopping(monitor = \"loss\", min_delta = 0.0001, patience = 10, restore_best_weights = True, mode='auto')\r\n",
        "stop_val_acc = EarlyStopping(monitor = \"val_categorical_accuracy\", min_delta = 0.0001, patience = 10, restore_best_weights = True, mode='auto')\r\n",
        "stop_val_loss = EarlyStopping(monitor = \"val_loss\", min_delta = 0.0001, patience = 10, restore_best_weights = True, mode='auto')\r\n",
        "\r\n",
        "history = model.fit(\r\n",
        "    train_generator,\r\n",
        "    batch_size = 32,\r\n",
        "    epochs = 50,\r\n",
        "    validation_data = test_generator,\r\n",
        "    callbacks = [stop_acc, stop_loss, stop_val_acc, stop_val_loss]\r\n",
        ")"
      ],
      "execution_count": 38,
      "outputs": [
        {
          "output_type": "stream",
          "text": [
            "Epoch 1/50\n",
            "38/38 [==============================] - 235s 6s/step - loss: 8.0906 - categorical_accuracy: 0.6123 - val_loss: 1.2826 - val_categorical_accuracy: 0.8689\n",
            "Epoch 2/50\n",
            "38/38 [==============================] - 65s 2s/step - loss: 3.1468 - categorical_accuracy: 0.7963 - val_loss: 1.0264 - val_categorical_accuracy: 0.8525\n",
            "Epoch 3/50\n",
            "38/38 [==============================] - 65s 2s/step - loss: 2.2852 - categorical_accuracy: 0.8330 - val_loss: 0.6073 - val_categorical_accuracy: 0.8197\n",
            "Epoch 4/50\n",
            "38/38 [==============================] - 65s 2s/step - loss: 1.9258 - categorical_accuracy: 0.8251 - val_loss: 1.3273 - val_categorical_accuracy: 0.8197\n",
            "Epoch 5/50\n",
            "38/38 [==============================] - 65s 2s/step - loss: 0.9540 - categorical_accuracy: 0.8503 - val_loss: 0.5222 - val_categorical_accuracy: 0.8689\n",
            "Epoch 6/50\n",
            "38/38 [==============================] - 65s 2s/step - loss: 0.8151 - categorical_accuracy: 0.8339 - val_loss: 0.5733 - val_categorical_accuracy: 0.8197\n",
            "Epoch 7/50\n",
            "38/38 [==============================] - 64s 2s/step - loss: 0.5845 - categorical_accuracy: 0.8629 - val_loss: 0.4833 - val_categorical_accuracy: 0.8361\n",
            "Epoch 8/50\n",
            "38/38 [==============================] - 64s 2s/step - loss: 0.3439 - categorical_accuracy: 0.8986 - val_loss: 0.6340 - val_categorical_accuracy: 0.7869\n",
            "Epoch 9/50\n",
            "38/38 [==============================] - 64s 2s/step - loss: 0.3999 - categorical_accuracy: 0.8937 - val_loss: 0.6040 - val_categorical_accuracy: 0.8197\n",
            "Epoch 10/50\n",
            "38/38 [==============================] - 63s 2s/step - loss: 0.3195 - categorical_accuracy: 0.9063 - val_loss: 0.6334 - val_categorical_accuracy: 0.8033\n",
            "Epoch 11/50\n",
            "38/38 [==============================] - 64s 2s/step - loss: 0.2941 - categorical_accuracy: 0.9189 - val_loss: 0.6265 - val_categorical_accuracy: 0.8361\n"
          ],
          "name": "stdout"
        }
      ]
    },
    {
      "cell_type": "code",
      "metadata": {
        "id": "facRd4eBirm-"
      },
      "source": [
        "base.trainable = True"
      ],
      "execution_count": 39,
      "outputs": []
    },
    {
      "cell_type": "code",
      "metadata": {
        "id": "K7vunMNni1EP"
      },
      "source": [
        "from tensorflow import keras\r\n",
        "\r\n",
        "model.compile(optimizer=keras.optimizers.Adam(1e-5),\r\n",
        "              loss=keras.losses.CategoricalCrossentropy(from_logits=True),\r\n",
        "              metrics=[keras.metrics.CategoricalAccuracy()])"
      ],
      "execution_count": 40,
      "outputs": []
    },
    {
      "cell_type": "code",
      "metadata": {
        "colab": {
          "base_uri": "https://localhost:8080/"
        },
        "id": "9x1AbArVi8eg",
        "outputId": "2a76bfb0-970f-4a50-a9fa-758fae545ede"
      },
      "source": [
        "history = model.fit(\r\n",
        "    train_generator,\r\n",
        "    batch_size = 32,\r\n",
        "    epochs = 30,\r\n",
        "    validation_data = test_generator,\r\n",
        "    callbacks = [stop_acc, stop_loss, stop_val_acc, stop_val_loss]\r\n",
        ")"
      ],
      "execution_count": 41,
      "outputs": [
        {
          "output_type": "stream",
          "text": [
            "Epoch 1/30\n",
            "38/38 [==============================] - 90s 2s/step - loss: 2.7483 - categorical_accuracy: 0.6804 - val_loss: 1.6968 - val_categorical_accuracy: 0.7541\n",
            "Epoch 2/30\n",
            "38/38 [==============================] - 71s 2s/step - loss: 1.4853 - categorical_accuracy: 0.7703 - val_loss: 1.3980 - val_categorical_accuracy: 0.7541\n",
            "Epoch 3/30\n",
            "38/38 [==============================] - 74s 2s/step - loss: 0.6367 - categorical_accuracy: 0.8508 - val_loss: 1.1740 - val_categorical_accuracy: 0.7869\n",
            "Epoch 4/30\n",
            "38/38 [==============================] - 74s 2s/step - loss: 0.7175 - categorical_accuracy: 0.8255 - val_loss: 1.1696 - val_categorical_accuracy: 0.8033\n",
            "Epoch 5/30\n",
            "38/38 [==============================] - 73s 2s/step - loss: 0.3616 - categorical_accuracy: 0.8855 - val_loss: 0.9499 - val_categorical_accuracy: 0.8033\n",
            "Epoch 6/30\n",
            "38/38 [==============================] - 73s 2s/step - loss: 0.2627 - categorical_accuracy: 0.9057 - val_loss: 0.6637 - val_categorical_accuracy: 0.8033\n",
            "Epoch 7/30\n",
            "38/38 [==============================] - 73s 2s/step - loss: 0.2299 - categorical_accuracy: 0.9049 - val_loss: 0.6095 - val_categorical_accuracy: 0.8033\n",
            "Epoch 8/30\n",
            "38/38 [==============================] - 73s 2s/step - loss: 0.2045 - categorical_accuracy: 0.9233 - val_loss: 0.6092 - val_categorical_accuracy: 0.8361\n",
            "Epoch 9/30\n",
            "38/38 [==============================] - 73s 2s/step - loss: 0.2034 - categorical_accuracy: 0.9294 - val_loss: 0.6587 - val_categorical_accuracy: 0.8197\n",
            "Epoch 10/30\n",
            "38/38 [==============================] - 73s 2s/step - loss: 0.1517 - categorical_accuracy: 0.9368 - val_loss: 0.7974 - val_categorical_accuracy: 0.8197\n",
            "Epoch 11/30\n",
            "38/38 [==============================] - 73s 2s/step - loss: 0.1218 - categorical_accuracy: 0.9610 - val_loss: 0.7929 - val_categorical_accuracy: 0.8361\n",
            "Epoch 12/30\n",
            "38/38 [==============================] - 73s 2s/step - loss: 0.0911 - categorical_accuracy: 0.9654 - val_loss: 0.8204 - val_categorical_accuracy: 0.8361\n",
            "Epoch 13/30\n",
            "38/38 [==============================] - 73s 2s/step - loss: 0.0883 - categorical_accuracy: 0.9765 - val_loss: 0.7646 - val_categorical_accuracy: 0.8361\n",
            "Epoch 14/30\n",
            "38/38 [==============================] - 72s 2s/step - loss: 0.0960 - categorical_accuracy: 0.9652 - val_loss: 0.8023 - val_categorical_accuracy: 0.8361\n",
            "Epoch 15/30\n",
            "38/38 [==============================] - 72s 2s/step - loss: 0.1055 - categorical_accuracy: 0.9727 - val_loss: 0.8400 - val_categorical_accuracy: 0.8361\n",
            "Epoch 16/30\n",
            "38/38 [==============================] - 72s 2s/step - loss: 0.0804 - categorical_accuracy: 0.9751 - val_loss: 0.8679 - val_categorical_accuracy: 0.8197\n",
            "Epoch 17/30\n",
            "38/38 [==============================] - 72s 2s/step - loss: 0.0613 - categorical_accuracy: 0.9804 - val_loss: 0.9177 - val_categorical_accuracy: 0.8197\n",
            "Epoch 18/30\n",
            "38/38 [==============================] - 72s 2s/step - loss: 0.0767 - categorical_accuracy: 0.9764 - val_loss: 1.0397 - val_categorical_accuracy: 0.8197\n"
          ],
          "name": "stdout"
        }
      ]
    },
    {
      "cell_type": "code",
      "metadata": {
        "id": "wdjLsTl7nBbV"
      },
      "source": [
        "model.save('fundus_tuned_resnet152v2.h5')"
      ],
      "execution_count": 42,
      "outputs": []
    },
    {
      "cell_type": "code",
      "metadata": {
        "colab": {
          "base_uri": "https://localhost:8080/"
        },
        "id": "Yd-gsKFMPzaQ",
        "outputId": "57461290-5519-49e0-ab40-91cf1e692140"
      },
      "source": [
        "print(history.history.keys())"
      ],
      "execution_count": 43,
      "outputs": [
        {
          "output_type": "stream",
          "text": [
            "dict_keys(['loss', 'categorical_accuracy', 'val_loss', 'val_categorical_accuracy'])\n"
          ],
          "name": "stdout"
        }
      ]
    },
    {
      "cell_type": "code",
      "metadata": {
        "colab": {
          "base_uri": "https://localhost:8080/",
          "height": 35
        },
        "id": "5aR2DA3G-0eF",
        "outputId": "dde3c75c-b891-497c-b2a8-7c2cb20e5525"
      },
      "source": [
        "pwd"
      ],
      "execution_count": null,
      "outputs": [
        {
          "output_type": "execute_result",
          "data": {
            "application/vnd.google.colaboratory.intrinsic+json": {
              "type": "string"
            },
            "text/plain": [
              "'/content/gdrive/My Drive/Kaggle'"
            ]
          },
          "metadata": {
            "tags": []
          },
          "execution_count": 27
        }
      ]
    },
    {
      "cell_type": "markdown",
      "metadata": {
        "id": "tvzsbqRSB1IX"
      },
      "source": [
        "Model Training History"
      ]
    },
    {
      "cell_type": "code",
      "metadata": {
        "colab": {
          "base_uri": "https://localhost:8080/",
          "height": 295
        },
        "id": "KO8S1iHWQCAN",
        "outputId": "220b6654-a99d-4d53-d2cb-242fb1130521"
      },
      "source": [
        "import matplotlib.pyplot as plt\r\n",
        "\r\n",
        "plt.plot(history.history['categorical_accuracy'])\r\n",
        "plt.plot(history.history['val_categorical_accuracy'])\r\n",
        "plt.legend(['train', 'test'], loc='upper left')\r\n",
        "plt.title('model accuracy')\r\n",
        "plt.ylabel('accuracy')\r\n",
        "plt.xlabel('epoch')\r\n",
        "plt.show()"
      ],
      "execution_count": 44,
      "outputs": [
        {
          "output_type": "display_data",
          "data": {
            "image/png": "[encoded data removed]",
            "text/plain": [
              "<Figure size 432x288 with 1 Axes>"
            ]
          },
          "metadata": {
            "tags": [],
            "needs_background": "light"
          }
        }
      ]
    },
    {
      "cell_type": "markdown",
      "metadata": {
        "id": "0GMxcfdMB3Ds"
      },
      "source": [
        "Loss"
      ]
    },
    {
      "cell_type": "code",
      "metadata": {
        "colab": {
          "base_uri": "https://localhost:8080/",
          "height": 295
        },
        "id": "M6aazDMZQEcl",
        "outputId": "57b553cb-fb10-468e-a2a9-3a7b91c38f62"
      },
      "source": [
        "plt.plot(history.history['loss'])\r\n",
        "plt.plot(history.history['val_loss'])\r\n",
        "plt.legend(['train', 'test'], loc='upper left')\r\n",
        "plt.title('model loss')\r\n",
        "plt.ylabel('loss')\r\n",
        "plt.xlabel('epoch')\r\n",
        "plt.show()"
      ],
      "execution_count": 45,
      "outputs": [
        {
          "output_type": "display_data",
          "data": {
            "image/png": "[encoded data removed]",
            "text/plain": [
              "<Figure size 432x288 with 1 Axes>"
            ]
          },
          "metadata": {
            "tags": [],
            "needs_background": "light"
          }
        }
      ]
    },
    {
      "cell_type": "code",
      "metadata": {
        "colab": {
          "base_uri": "https://localhost:8080/"
        },
        "id": "G4fVMcXB8uKQ",
        "outputId": "2624c34e-5a93-4ee3-9f17-7c1bebfa2ea3"
      },
      "source": [
        "print('Execution finished!')"
      ],
      "execution_count": 46,
      "outputs": [
        {
          "output_type": "stream",
          "text": [
            "Execution finished!\n"
          ],
          "name": "stdout"
        }
      ]
    }
  ]
}