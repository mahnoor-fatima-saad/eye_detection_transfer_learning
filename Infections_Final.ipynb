{
  "nbformat": 4,
  "nbformat_minor": 0,
  "metadata": {
    "accelerator": "GPU",
    "colab": {
      "name": "Infections Final.ipynb",
      "provenance": [],
      "collapsed_sections": []
    },
    "kernelspec": {
      "display_name": "Python 3",
      "name": "python3"
    },
    "language_info": {
      "name": "python"
    }
  },
  "cells": [
    {
      "cell_type": "markdown",
      "metadata": {
        "id": "4pmvxdX2O_pl"
      },
      "source": [
        "Mounting Google Drive For Data Access"
      ]
    },
    {
      "cell_type": "code",
      "metadata": {
        "colab": {
          "base_uri": "https://localhost:8080/"
        },
        "id": "zOlTwazRgZmb",
        "outputId": "d7e319eb-3665-4cf5-d1ac-dfa1614654f5"
      },
      "source": [
        "from google.colab import drive\n",
        "drive.mount('/content/gdrive')"
      ],
      "execution_count": null,
      "outputs": [
        {
          "output_type": "stream",
          "text": [
            "Mounted at /content/gdrive\n"
          ],
          "name": "stdout"
        }
      ]
    },
    {
      "cell_type": "markdown",
      "metadata": {
        "id": "wzQLeyTVPGa5"
      },
      "source": [
        "Creating Data Generator for Data Augmentation"
      ]
    },
    {
      "cell_type": "code",
      "metadata": {
        "id": "YmbS2Wtjgae3"
      },
      "source": [
        "import tensorflow as tf \n",
        "from keras.applications.resnet50 import preprocess_input\n",
        "\n",
        "datagen = tf.keras.preprocessing.image.ImageDataGenerator( \n",
        "                                                          rescale = 1./255., \n",
        "                                                          rotation_range = 8, \n",
        "                                                          width_shift_range = 0.2, \n",
        "                                                          height_shift_range = 0.2,\n",
        "                                                          shear_range = 0.2, \n",
        "                                                          zoom_range = 0.2,\n",
        "                                                          brightness_range = [0.5,1.5],\n",
        "                                                          horizontal_flip = True,\n",
        "                                                          fill_mode = 'nearest',\n",
        "                                                          dtype = None,                                                      \n",
        "                                                          validation_split = 0.15)\n"
      ],
      "execution_count": null,
      "outputs": []
    },
    {
      "cell_type": "markdown",
      "metadata": {
        "id": "-oohuVRWPJbl"
      },
      "source": [
        "Validation and Training Sets"
      ]
    },
    {
      "cell_type": "code",
      "metadata": {
        "colab": {
          "base_uri": "https://localhost:8080/"
        },
        "id": "J2uScVN-gc1O",
        "outputId": "d9e836a1-0c3d-4f19-85fd-390f585eb3c7"
      },
      "source": [
        "dire = '/content/gdrive/MyDrive/Infections'\n",
        "\n",
        "train_generator = datagen.flow_from_directory(\n",
        "    dire,\n",
        "    subset=\"training\",\n",
        "    batch_size=32,\n",
        "    class_mode='categorical',     \n",
        "    shuffle=True,                      \n",
        "    target_size=(150,150)\n",
        ")\n",
        "\n",
        "valid_generator = datagen.flow_from_directory(\n",
        "    dire,\n",
        "    subset=\"validation\",\n",
        "    shuffle=True,\n",
        "    batch_size=32,\n",
        "    class_mode='categorical',                           \n",
        "    target_size=(150,150)\n",
        ")"
      ],
      "execution_count": null,
      "outputs": [
        {
          "output_type": "stream",
          "text": [
            "Found 673 images belonging to 5 classes.\n",
            "Found 116 images belonging to 5 classes.\n"
          ],
          "name": "stdout"
        }
      ]
    },
    {
      "cell_type": "code",
      "metadata": {
        "colab": {
          "base_uri": "https://localhost:8080/"
        },
        "id": "H8Opz7nagigq",
        "outputId": "dfc29d6b-5239-425d-d364-6bc5425a0aad"
      },
      "source": [
        "for image_batch, label_batch in train_generator:\n",
        "  break\n",
        "image_batch.shape, label_batch.shape"
      ],
      "execution_count": null,
      "outputs": [
        {
          "output_type": "execute_result",
          "data": {
            "text/plain": [
              "((32, 150, 150, 3), (32, 5))"
            ]
          },
          "metadata": {
            "tags": []
          },
          "execution_count": 40
        }
      ]
    },
    {
      "cell_type": "markdown",
      "metadata": {
        "id": "NwJwUUdzPOML"
      },
      "source": [
        "Extracting and Saving Labels"
      ]
    },
    {
      "cell_type": "code",
      "metadata": {
        "colab": {
          "base_uri": "https://localhost:8080/"
        },
        "id": "_7FBIYkQgku4",
        "outputId": "94162992-e3c0-4ed0-9110-97ae083ab561"
      },
      "source": [
        "label_batch[0:5]\n",
        "print(train_generator.class_indices)\n",
        "labels = '\\n'.join(sorted(train_generator.class_indices.keys()))\n",
        "with open('labels.txt', 'w') as f:\n",
        " f.write(labels)\n",
        "!cat labels.txt"
      ],
      "execution_count": null,
      "outputs": [
        {
          "output_type": "stream",
          "text": [
            "{'Blepharitis': 0, 'Cellulitis eye': 1, 'Conjunctivitis, Pink Eye': 2, 'Eye': 3, 'Hordeolum, stye': 4}\n",
            "Blepharitis\n",
            "Cellulitis eye\n",
            "Conjunctivitis, Pink Eye\n",
            "Eye\n",
            "Hordeolum, stye"
          ],
          "name": "stdout"
        }
      ]
    },
    {
      "cell_type": "code",
      "metadata": {
        "colab": {
          "base_uri": "https://localhost:8080/"
        },
        "id": "994hllBwgmZF",
        "outputId": "09f03101-ac93-4e46-8709-8293fa4846d1"
      },
      "source": [
        "import os\n",
        "import urllib.request\n",
        "\n",
        "#urllib.request.urlretrieve('https://github.com/fchollet/deep-learning-models/releases/download/v0.1/vgg16_weights_tf_dim_ordering_tf_kernels_notop.h5',\n",
        "                           #'vgg16_weights_tf_dim_ordering_tf_kernels_notop.h5')\n",
        "\n",
        "os.listdir()\n",
        "\n"
      ],
      "execution_count": null,
      "outputs": [
        {
          "output_type": "execute_result",
          "data": {
            "text/plain": [
              "['.config', 'gdrive', 'labels.txt', 'sample_data']"
            ]
          },
          "metadata": {
            "tags": []
          },
          "execution_count": 42
        }
      ]
    },
    {
      "cell_type": "markdown",
      "metadata": {
        "id": "70dmmom9PRku"
      },
      "source": [
        "Initializing Mobile Net V2 Pre-trained Model"
      ]
    },
    {
      "cell_type": "code",
      "metadata": {
        "id": "i1cKh7cjgn_K",
        "colab": {
          "base_uri": "https://localhost:8080/"
        },
        "outputId": "cf708cc2-9328-4943-acf4-6312a29c7ed8"
      },
      "source": [
        "from keras.applications.resnet50 import ResNet50\n",
        "from keras import layers\n",
        "from tensorflow.keras import Sequential\n",
        "from tensorflow.keras.layers import Flatten, Dense, Dropout\n",
        "from keras.applications.vgg16 import VGG16 \n",
        "from tensorflow.keras.applications.inception_v3 import InceptionV3\n",
        "\n",
        "from tensorflow.keras import layers \n",
        "from tensorflow.keras import Model \n",
        "\n",
        "from tensorflow.keras.applications import ResNet50\n",
        "from tensorflow.python.keras.models import Sequential\n",
        "from tensorflow.python.keras.layers import Dense, Flatten, GlobalAveragePooling2D\n",
        "\n",
        "from keras.applications.vgg16 import VGG16, preprocess_input\n",
        "from tensorflow.keras.applications.inception_v3 import InceptionV3\n",
        "from tensorflow.keras.applications import MobileNetV2\n",
        "\n",
        "mobileNet = MobileNetV2(\n",
        "    input_shape = (150,150,3), \n",
        "    weights = 'imagenet', \n",
        "    include_top = False,\n",
        ")\n",
        "\n",
        "\n",
        "\n"
      ],
      "execution_count": null,
      "outputs": [
        {
          "output_type": "stream",
          "text": [
            "WARNING:tensorflow:`input_shape` is undefined or non-square, or `rows` is not in [96, 128, 160, 192, 224]. Weights for input shape (224, 224) will be loaded as the default.\n"
          ],
          "name": "stdout"
        }
      ]
    },
    {
      "cell_type": "markdown",
      "metadata": {
        "id": "WwSsotLlPWh1"
      },
      "source": [
        "Freezing Layers in Mobile Net V2 Model"
      ]
    },
    {
      "cell_type": "code",
      "metadata": {
        "id": "J9Ep8MZIgpjZ"
      },
      "source": [
        "for layer in mobileNet.layers:\n",
        "    layer.trainable = False"
      ],
      "execution_count": null,
      "outputs": []
    },
    {
      "cell_type": "markdown",
      "metadata": {
        "id": "et3QYJwNPhHp"
      },
      "source": [
        "Creating Custom Architecture on Top of MobileNetV2"
      ]
    },
    {
      "cell_type": "code",
      "metadata": {
        "id": "Lboouu5LgrCg"
      },
      "source": [
        "from keras import layers\n",
        "from tensorflow.keras import Sequential\n",
        "from tensorflow.keras.layers import Flatten, Dense\n",
        "from tensorflow.keras import regularizers\n",
        "\n",
        "\n",
        "model = Sequential()\n",
        "\n",
        "\n",
        "## Inception V3\n",
        "model.add(mobileNet)\n",
        "model.add(Flatten())\n",
        "#model.add(GlobalAveragePooling2D())\n",
        "model.add(Dense(32, activation='relu'))\n",
        "model.add(Dropout(rate=0.4))\n",
        "model.add(Dense(5, activation = 'softmax'))"
      ],
      "execution_count": null,
      "outputs": []
    },
    {
      "cell_type": "markdown",
      "metadata": {
        "id": "KHlOuj_fPlW1"
      },
      "source": [
        "Adjusting Adam Optimizer and Compiling Model"
      ]
    },
    {
      "cell_type": "code",
      "metadata": {
        "colab": {
          "base_uri": "https://localhost:8080/"
        },
        "id": "DqH3iveMgsmA",
        "outputId": "12958c88-5248-404d-827a-5adcb8da5556"
      },
      "source": [
        "opt = tf.keras.optimizers.Adam(learning_rate=0.00001)\n",
        "\n",
        "model.compile(optimizer=opt, loss=\"categorical_crossentropy\", metrics=[\"accuracy\"])\n",
        "model.summary()"
      ],
      "execution_count": null,
      "outputs": [
        {
          "output_type": "stream",
          "text": [
            "Model: \"sequential_2\"\n",
            "_________________________________________________________________\n",
            "Layer (type)                 Output Shape              Param #   \n",
            "=================================================================\n",
            "mobilenetv2_1.00_224 (Functi (None, 5, 5, 1280)        2257984   \n",
            "_________________________________________________________________\n",
            "flatten_2 (Flatten)          (None, 32000)             0         \n",
            "_________________________________________________________________\n",
            "dense_5 (Dense)              (None, 32)                1024032   \n",
            "_________________________________________________________________\n",
            "dropout_3 (Dropout)          (None, 32)                0         \n",
            "_________________________________________________________________\n",
            "dense_6 (Dense)              (None, 5)                 165       \n",
            "=================================================================\n",
            "Total params: 3,282,181\n",
            "Trainable params: 1,024,197\n",
            "Non-trainable params: 2,257,984\n",
            "_________________________________________________________________\n"
          ],
          "name": "stdout"
        }
      ]
    },
    {
      "cell_type": "markdown",
      "metadata": {
        "id": "KkhGCLaEPowV"
      },
      "source": [
        "Training for 10 Epochs"
      ]
    },
    {
      "cell_type": "code",
      "metadata": {
        "colab": {
          "base_uri": "https://localhost:8080/"
        },
        "id": "6Pm5d426gwiB",
        "outputId": "a3477ce2-9e2b-408a-ead6-ab3654bdbcd3"
      },
      "source": [
        "hist= model.fit(train_generator, validation_data = valid_generator, epochs = 10)"
      ],
      "execution_count": null,
      "outputs": [
        {
          "output_type": "stream",
          "text": [
            "Epoch 1/10\n",
            "22/22 [==============================] - 11s 380ms/step - loss: 2.7741 - accuracy: 0.2030 - val_loss: 1.9100 - val_accuracy: 0.1897\n",
            "Epoch 2/10\n",
            "22/22 [==============================] - 7s 328ms/step - loss: 1.9401 - accuracy: 0.2118 - val_loss: 1.6664 - val_accuracy: 0.2414\n",
            "Epoch 3/10\n",
            "22/22 [==============================] - 7s 327ms/step - loss: 1.6872 - accuracy: 0.2504 - val_loss: 1.5500 - val_accuracy: 0.3276\n",
            "Epoch 4/10\n",
            "22/22 [==============================] - 7s 327ms/step - loss: 1.6407 - accuracy: 0.2587 - val_loss: 1.5721 - val_accuracy: 0.3190\n",
            "Epoch 5/10\n",
            "22/22 [==============================] - 7s 329ms/step - loss: 1.6067 - accuracy: 0.2761 - val_loss: 1.5810 - val_accuracy: 0.3534\n",
            "Epoch 6/10\n",
            "22/22 [==============================] - 7s 330ms/step - loss: 1.5613 - accuracy: 0.3225 - val_loss: 1.5046 - val_accuracy: 0.3966\n",
            "Epoch 7/10\n",
            "22/22 [==============================] - 7s 327ms/step - loss: 1.5140 - accuracy: 0.3550 - val_loss: 1.4703 - val_accuracy: 0.4310\n",
            "Epoch 8/10\n",
            "22/22 [==============================] - 7s 328ms/step - loss: 1.4392 - accuracy: 0.4348 - val_loss: 1.4250 - val_accuracy: 0.4310\n",
            "Epoch 9/10\n",
            "22/22 [==============================] - 7s 334ms/step - loss: 1.4621 - accuracy: 0.3287 - val_loss: 1.4072 - val_accuracy: 0.4914\n",
            "Epoch 10/10\n",
            "22/22 [==============================] - 7s 328ms/step - loss: 1.4062 - accuracy: 0.4381 - val_loss: 1.4096 - val_accuracy: 0.4310\n"
          ],
          "name": "stdout"
        }
      ]
    },
    {
      "cell_type": "markdown",
      "metadata": {
        "id": "CAxCoPoFPqp7"
      },
      "source": [
        "Training for Additional 50 Epochs"
      ]
    },
    {
      "cell_type": "code",
      "metadata": {
        "colab": {
          "base_uri": "https://localhost:8080/"
        },
        "id": "9p5Aif5nmanU",
        "outputId": "ea753e26-0de2-42af-bc04-79c87881863b"
      },
      "source": [
        "hist= model.fit(train_generator, validation_data = valid_generator, epochs = 50)"
      ],
      "execution_count": null,
      "outputs": [
        {
          "output_type": "stream",
          "text": [
            "Epoch 1/50\n",
            "22/22 [==============================] - 8s 350ms/step - loss: 1.4208 - accuracy: 0.4131 - val_loss: 1.4122 - val_accuracy: 0.4310\n",
            "Epoch 2/50\n",
            "22/22 [==============================] - 7s 334ms/step - loss: 1.4075 - accuracy: 0.4101 - val_loss: 1.3118 - val_accuracy: 0.4828\n",
            "Epoch 3/50\n",
            "22/22 [==============================] - 7s 332ms/step - loss: 1.3910 - accuracy: 0.4042 - val_loss: 1.3510 - val_accuracy: 0.4741\n",
            "Epoch 4/50\n",
            "22/22 [==============================] - 7s 329ms/step - loss: 1.4088 - accuracy: 0.4354 - val_loss: 1.3628 - val_accuracy: 0.4310\n",
            "Epoch 5/50\n",
            "22/22 [==============================] - 7s 326ms/step - loss: 1.3299 - accuracy: 0.4146 - val_loss: 1.2796 - val_accuracy: 0.5000\n",
            "Epoch 6/50\n",
            "22/22 [==============================] - 7s 328ms/step - loss: 1.3717 - accuracy: 0.4398 - val_loss: 1.2759 - val_accuracy: 0.5086\n",
            "Epoch 7/50\n",
            "22/22 [==============================] - 7s 324ms/step - loss: 1.3270 - accuracy: 0.4398 - val_loss: 1.2277 - val_accuracy: 0.5259\n",
            "Epoch 8/50\n",
            "22/22 [==============================] - 7s 328ms/step - loss: 1.2796 - accuracy: 0.4651 - val_loss: 1.2650 - val_accuracy: 0.4828\n",
            "Epoch 9/50\n",
            "22/22 [==============================] - 7s 327ms/step - loss: 1.3328 - accuracy: 0.4487 - val_loss: 1.2320 - val_accuracy: 0.5086\n",
            "Epoch 10/50\n",
            "22/22 [==============================] - 7s 329ms/step - loss: 1.3205 - accuracy: 0.4279 - val_loss: 1.2142 - val_accuracy: 0.5603\n",
            "Epoch 11/50\n",
            "22/22 [==============================] - 7s 337ms/step - loss: 1.2939 - accuracy: 0.4547 - val_loss: 1.2394 - val_accuracy: 0.5259\n",
            "Epoch 12/50\n",
            "22/22 [==============================] - 7s 334ms/step - loss: 1.2765 - accuracy: 0.4695 - val_loss: 1.1412 - val_accuracy: 0.5259\n",
            "Epoch 13/50\n",
            "22/22 [==============================] - 7s 310ms/step - loss: 1.2651 - accuracy: 0.4933 - val_loss: 1.1526 - val_accuracy: 0.5603\n",
            "Epoch 14/50\n",
            "22/22 [==============================] - 7s 328ms/step - loss: 1.2319 - accuracy: 0.5082 - val_loss: 1.1201 - val_accuracy: 0.5776\n",
            "Epoch 15/50\n",
            "22/22 [==============================] - 7s 309ms/step - loss: 1.2119 - accuracy: 0.5007 - val_loss: 1.1522 - val_accuracy: 0.5690\n",
            "Epoch 16/50\n",
            "22/22 [==============================] - 7s 312ms/step - loss: 1.2194 - accuracy: 0.5171 - val_loss: 1.0812 - val_accuracy: 0.5948\n",
            "Epoch 17/50\n",
            "22/22 [==============================] - 7s 329ms/step - loss: 1.2640 - accuracy: 0.4785 - val_loss: 1.0897 - val_accuracy: 0.5776\n",
            "Epoch 18/50\n",
            "22/22 [==============================] - 7s 328ms/step - loss: 1.2137 - accuracy: 0.4933 - val_loss: 1.1366 - val_accuracy: 0.5431\n",
            "Epoch 19/50\n",
            "22/22 [==============================] - 7s 328ms/step - loss: 1.1936 - accuracy: 0.5111 - val_loss: 1.0643 - val_accuracy: 0.6034\n",
            "Epoch 20/50\n",
            "22/22 [==============================] - 7s 341ms/step - loss: 1.1628 - accuracy: 0.5290 - val_loss: 1.1820 - val_accuracy: 0.5431\n",
            "Epoch 21/50\n",
            "22/22 [==============================] - 7s 331ms/step - loss: 1.1687 - accuracy: 0.5156 - val_loss: 1.1738 - val_accuracy: 0.5172\n",
            "Epoch 22/50\n",
            "22/22 [==============================] - 7s 330ms/step - loss: 1.1722 - accuracy: 0.5215 - val_loss: 1.1705 - val_accuracy: 0.6379\n",
            "Epoch 23/50\n",
            "22/22 [==============================] - 7s 329ms/step - loss: 1.1642 - accuracy: 0.5379 - val_loss: 1.1306 - val_accuracy: 0.5431\n",
            "Epoch 24/50\n",
            "22/22 [==============================] - 7s 322ms/step - loss: 1.1319 - accuracy: 0.5379 - val_loss: 1.0257 - val_accuracy: 0.6121\n",
            "Epoch 25/50\n",
            "22/22 [==============================] - 7s 329ms/step - loss: 1.1187 - accuracy: 0.5453 - val_loss: 1.0325 - val_accuracy: 0.5603\n",
            "Epoch 26/50\n",
            "22/22 [==============================] - 7s 328ms/step - loss: 1.1397 - accuracy: 0.5260 - val_loss: 1.0204 - val_accuracy: 0.6121\n",
            "Epoch 27/50\n",
            "22/22 [==============================] - 7s 325ms/step - loss: 1.1016 - accuracy: 0.5423 - val_loss: 1.0774 - val_accuracy: 0.6466\n",
            "Epoch 28/50\n",
            "22/22 [==============================] - 7s 330ms/step - loss: 1.0923 - accuracy: 0.5706 - val_loss: 1.1048 - val_accuracy: 0.6121\n",
            "Epoch 29/50\n",
            "22/22 [==============================] - 7s 329ms/step - loss: 1.1121 - accuracy: 0.5379 - val_loss: 1.0665 - val_accuracy: 0.5690\n",
            "Epoch 30/50\n",
            "22/22 [==============================] - 7s 329ms/step - loss: 1.1200 - accuracy: 0.5468 - val_loss: 1.0213 - val_accuracy: 0.5948\n",
            "Epoch 31/50\n",
            "22/22 [==============================] - 7s 321ms/step - loss: 1.0868 - accuracy: 0.5706 - val_loss: 1.0321 - val_accuracy: 0.6034\n",
            "Epoch 32/50\n",
            "22/22 [==============================] - 7s 329ms/step - loss: 1.0930 - accuracy: 0.5646 - val_loss: 1.0298 - val_accuracy: 0.6034\n",
            "Epoch 33/50\n",
            "22/22 [==============================] - 7s 330ms/step - loss: 1.0639 - accuracy: 0.5884 - val_loss: 0.9795 - val_accuracy: 0.6379\n",
            "Epoch 34/50\n",
            "22/22 [==============================] - 7s 327ms/step - loss: 1.0554 - accuracy: 0.5780 - val_loss: 0.9486 - val_accuracy: 0.6552\n",
            "Epoch 35/50\n",
            "22/22 [==============================] - 7s 331ms/step - loss: 1.0812 - accuracy: 0.5349 - val_loss: 1.0152 - val_accuracy: 0.6121\n",
            "Epoch 36/50\n",
            "22/22 [==============================] - 7s 338ms/step - loss: 1.0926 - accuracy: 0.5646 - val_loss: 0.9678 - val_accuracy: 0.5948\n",
            "Epoch 37/50\n",
            "22/22 [==============================] - 7s 327ms/step - loss: 1.0534 - accuracy: 0.5736 - val_loss: 0.9802 - val_accuracy: 0.6379\n",
            "Epoch 38/50\n",
            "22/22 [==============================] - 7s 326ms/step - loss: 1.0625 - accuracy: 0.5765 - val_loss: 0.9352 - val_accuracy: 0.6897\n",
            "Epoch 39/50\n",
            "22/22 [==============================] - 7s 330ms/step - loss: 1.0650 - accuracy: 0.5423 - val_loss: 1.0062 - val_accuracy: 0.5862\n",
            "Epoch 40/50\n",
            "22/22 [==============================] - 7s 331ms/step - loss: 1.0481 - accuracy: 0.5750 - val_loss: 1.0073 - val_accuracy: 0.6034\n",
            "Epoch 41/50\n",
            "22/22 [==============================] - 7s 329ms/step - loss: 1.0401 - accuracy: 0.5914 - val_loss: 1.0243 - val_accuracy: 0.6121\n",
            "Epoch 42/50\n",
            "22/22 [==============================] - 7s 310ms/step - loss: 1.0902 - accuracy: 0.5676 - val_loss: 0.9753 - val_accuracy: 0.5948\n",
            "Epoch 43/50\n",
            "22/22 [==============================] - 7s 332ms/step - loss: 1.0443 - accuracy: 0.5884 - val_loss: 0.9577 - val_accuracy: 0.6552\n",
            "Epoch 44/50\n",
            "22/22 [==============================] - 7s 331ms/step - loss: 0.9950 - accuracy: 0.6033 - val_loss: 1.0085 - val_accuracy: 0.6207\n",
            "Epoch 45/50\n",
            "22/22 [==============================] - 7s 326ms/step - loss: 1.0114 - accuracy: 0.6033 - val_loss: 0.9931 - val_accuracy: 0.6466\n",
            "Epoch 46/50\n",
            "22/22 [==============================] - 7s 321ms/step - loss: 1.0433 - accuracy: 0.5958 - val_loss: 0.9807 - val_accuracy: 0.5776\n",
            "Epoch 47/50\n",
            "22/22 [==============================] - 7s 330ms/step - loss: 0.9886 - accuracy: 0.6062 - val_loss: 0.9430 - val_accuracy: 0.6293\n",
            "Epoch 48/50\n",
            "22/22 [==============================] - 7s 335ms/step - loss: 1.0218 - accuracy: 0.5944 - val_loss: 0.9972 - val_accuracy: 0.6293\n",
            "Epoch 49/50\n",
            "22/22 [==============================] - 7s 337ms/step - loss: 1.0426 - accuracy: 0.5750 - val_loss: 0.9475 - val_accuracy: 0.6379\n",
            "Epoch 50/50\n",
            "22/22 [==============================] - 7s 329ms/step - loss: 1.0335 - accuracy: 0.5869 - val_loss: 0.9995 - val_accuracy: 0.6121\n"
          ],
          "name": "stdout"
        }
      ]
    },
    {
      "cell_type": "markdown",
      "metadata": {
        "id": "e6w1kfkoPtsI"
      },
      "source": [
        "Unfreezing Layers in MobileNetV2, adjusting Optimizer and Compiling Model again to ensure that the model can be trained on custom dataset"
      ]
    },
    {
      "cell_type": "code",
      "metadata": {
        "colab": {
          "base_uri": "https://localhost:8080/"
        },
        "id": "JBC9qdGL3eV7",
        "outputId": "563ffe44-4265-4fad-9ac3-9bdffdc9f04f"
      },
      "source": [
        "for layer in mobileNet.layers:\n",
        "    layer.trainable = True\n",
        "\n",
        "opt = tf.keras.optimizers.Adam(learning_rate=0.00001)\n",
        "\n",
        "model.compile(optimizer=opt, loss=\"categorical_crossentropy\", metrics=[\"accuracy\"])\n",
        "model.summary()"
      ],
      "execution_count": null,
      "outputs": [
        {
          "output_type": "stream",
          "text": [
            "Model: \"sequential_2\"\n",
            "_________________________________________________________________\n",
            "Layer (type)                 Output Shape              Param #   \n",
            "=================================================================\n",
            "mobilenetv2_1.00_224 (Functi (None, 5, 5, 1280)        2257984   \n",
            "_________________________________________________________________\n",
            "flatten_2 (Flatten)          (None, 32000)             0         \n",
            "_________________________________________________________________\n",
            "dense_5 (Dense)              (None, 32)                1024032   \n",
            "_________________________________________________________________\n",
            "dropout_3 (Dropout)          (None, 32)                0         \n",
            "_________________________________________________________________\n",
            "dense_6 (Dense)              (None, 5)                 165       \n",
            "=================================================================\n",
            "Total params: 3,282,181\n",
            "Trainable params: 3,248,069\n",
            "Non-trainable params: 34,112\n",
            "_________________________________________________________________\n"
          ],
          "name": "stdout"
        }
      ]
    },
    {
      "cell_type": "markdown",
      "metadata": {
        "id": "dBtrQxwuP3ky"
      },
      "source": [
        "Training unfreezed model for 50 Epochs"
      ]
    },
    {
      "cell_type": "code",
      "metadata": {
        "id": "xr7XJ1lJj67-",
        "colab": {
          "base_uri": "https://localhost:8080/"
        },
        "outputId": "c5488faa-4fd3-4c6f-8ad5-451867f9007d"
      },
      "source": [
        "hist= model.fit(train_generator, validation_data = valid_generator, epochs = 50)"
      ],
      "execution_count": null,
      "outputs": [
        {
          "output_type": "stream",
          "text": [
            "Epoch 1/50\n",
            "22/22 [==============================] - 13s 394ms/step - loss: 1.6983 - accuracy: 0.3298 - val_loss: 1.0477 - val_accuracy: 0.5776\n",
            "Epoch 2/50\n",
            "22/22 [==============================] - 8s 352ms/step - loss: 1.5530 - accuracy: 0.3757 - val_loss: 0.9314 - val_accuracy: 0.5862\n",
            "Epoch 3/50\n",
            "22/22 [==============================] - 8s 357ms/step - loss: 1.4065 - accuracy: 0.4089 - val_loss: 0.9928 - val_accuracy: 0.5690\n",
            "Epoch 4/50\n",
            "22/22 [==============================] - 8s 352ms/step - loss: 1.3786 - accuracy: 0.4607 - val_loss: 1.0624 - val_accuracy: 0.5690\n",
            "Epoch 5/50\n",
            "22/22 [==============================] - 8s 356ms/step - loss: 1.3420 - accuracy: 0.4203 - val_loss: 0.9820 - val_accuracy: 0.6034\n",
            "Epoch 6/50\n",
            "22/22 [==============================] - 8s 360ms/step - loss: 1.3281 - accuracy: 0.4628 - val_loss: 1.0229 - val_accuracy: 0.6207\n",
            "Epoch 7/50\n",
            "22/22 [==============================] - 8s 358ms/step - loss: 1.3957 - accuracy: 0.4070 - val_loss: 1.0468 - val_accuracy: 0.5948\n",
            "Epoch 8/50\n",
            "22/22 [==============================] - 8s 349ms/step - loss: 1.3197 - accuracy: 0.4556 - val_loss: 1.0645 - val_accuracy: 0.5690\n",
            "Epoch 9/50\n",
            "22/22 [==============================] - 8s 356ms/step - loss: 1.2673 - accuracy: 0.4742 - val_loss: 1.0682 - val_accuracy: 0.5862\n",
            "Epoch 10/50\n",
            "22/22 [==============================] - 8s 355ms/step - loss: 1.2452 - accuracy: 0.4838 - val_loss: 1.0547 - val_accuracy: 0.5603\n",
            "Epoch 11/50\n",
            "22/22 [==============================] - 8s 359ms/step - loss: 1.2345 - accuracy: 0.4948 - val_loss: 0.9995 - val_accuracy: 0.6121\n",
            "Epoch 12/50\n",
            "22/22 [==============================] - 8s 358ms/step - loss: 1.1906 - accuracy: 0.5196 - val_loss: 1.0122 - val_accuracy: 0.5517\n",
            "Epoch 13/50\n",
            "22/22 [==============================] - 8s 358ms/step - loss: 1.2688 - accuracy: 0.4813 - val_loss: 1.0448 - val_accuracy: 0.6034\n",
            "Epoch 14/50\n",
            "22/22 [==============================] - 8s 355ms/step - loss: 1.2340 - accuracy: 0.4865 - val_loss: 0.9520 - val_accuracy: 0.6034\n",
            "Epoch 15/50\n",
            "22/22 [==============================] - 8s 365ms/step - loss: 1.2067 - accuracy: 0.4668 - val_loss: 1.0563 - val_accuracy: 0.5862\n",
            "Epoch 16/50\n",
            "22/22 [==============================] - 8s 351ms/step - loss: 1.2007 - accuracy: 0.5183 - val_loss: 1.0003 - val_accuracy: 0.6379\n",
            "Epoch 17/50\n",
            "22/22 [==============================] - 8s 363ms/step - loss: 1.1450 - accuracy: 0.5322 - val_loss: 0.9410 - val_accuracy: 0.6552\n",
            "Epoch 18/50\n",
            "22/22 [==============================] - 8s 357ms/step - loss: 1.2482 - accuracy: 0.4703 - val_loss: 1.0293 - val_accuracy: 0.6034\n",
            "Epoch 19/50\n",
            "22/22 [==============================] - 8s 346ms/step - loss: 1.1464 - accuracy: 0.5245 - val_loss: 0.9981 - val_accuracy: 0.5948\n",
            "Epoch 20/50\n",
            "22/22 [==============================] - 8s 361ms/step - loss: 1.1335 - accuracy: 0.5476 - val_loss: 0.9885 - val_accuracy: 0.5948\n",
            "Epoch 21/50\n",
            "22/22 [==============================] - 8s 357ms/step - loss: 1.1457 - accuracy: 0.5363 - val_loss: 0.9586 - val_accuracy: 0.6034\n",
            "Epoch 22/50\n",
            "22/22 [==============================] - 8s 366ms/step - loss: 1.1863 - accuracy: 0.5126 - val_loss: 1.0018 - val_accuracy: 0.6207\n",
            "Epoch 23/50\n",
            "22/22 [==============================] - 8s 360ms/step - loss: 1.1402 - accuracy: 0.5456 - val_loss: 0.9709 - val_accuracy: 0.6379\n",
            "Epoch 24/50\n",
            "22/22 [==============================] - 8s 353ms/step - loss: 1.1558 - accuracy: 0.5303 - val_loss: 0.8859 - val_accuracy: 0.6466\n",
            "Epoch 25/50\n",
            "22/22 [==============================] - 8s 351ms/step - loss: 1.0882 - accuracy: 0.5454 - val_loss: 0.9271 - val_accuracy: 0.6379\n",
            "Epoch 26/50\n",
            "22/22 [==============================] - 8s 358ms/step - loss: 1.0740 - accuracy: 0.5792 - val_loss: 0.8543 - val_accuracy: 0.6810\n",
            "Epoch 27/50\n",
            "22/22 [==============================] - 8s 361ms/step - loss: 1.0910 - accuracy: 0.5646 - val_loss: 0.9315 - val_accuracy: 0.5948\n",
            "Epoch 28/50\n",
            "22/22 [==============================] - 8s 357ms/step - loss: 0.9797 - accuracy: 0.6293 - val_loss: 0.9064 - val_accuracy: 0.6121\n",
            "Epoch 29/50\n",
            "22/22 [==============================] - 8s 358ms/step - loss: 1.0538 - accuracy: 0.5598 - val_loss: 0.8895 - val_accuracy: 0.6466\n",
            "Epoch 30/50\n",
            "22/22 [==============================] - 8s 351ms/step - loss: 1.1106 - accuracy: 0.5617 - val_loss: 0.9755 - val_accuracy: 0.6293\n",
            "Epoch 31/50\n",
            "22/22 [==============================] - 8s 370ms/step - loss: 1.0557 - accuracy: 0.5391 - val_loss: 0.9269 - val_accuracy: 0.6207\n",
            "Epoch 32/50\n",
            "22/22 [==============================] - 8s 358ms/step - loss: 1.0794 - accuracy: 0.5725 - val_loss: 0.9718 - val_accuracy: 0.5948\n",
            "Epoch 33/50\n",
            "22/22 [==============================] - 8s 353ms/step - loss: 1.0017 - accuracy: 0.5921 - val_loss: 0.9706 - val_accuracy: 0.6121\n",
            "Epoch 34/50\n",
            "22/22 [==============================] - 8s 355ms/step - loss: 1.0154 - accuracy: 0.6022 - val_loss: 0.9820 - val_accuracy: 0.5862\n",
            "Epoch 35/50\n",
            "22/22 [==============================] - 8s 357ms/step - loss: 1.0512 - accuracy: 0.6279 - val_loss: 0.9309 - val_accuracy: 0.6638\n",
            "Epoch 36/50\n",
            "22/22 [==============================] - 8s 353ms/step - loss: 1.0171 - accuracy: 0.6263 - val_loss: 0.9101 - val_accuracy: 0.6207\n",
            "Epoch 37/50\n",
            "22/22 [==============================] - 8s 357ms/step - loss: 1.0425 - accuracy: 0.5881 - val_loss: 0.9053 - val_accuracy: 0.6121\n",
            "Epoch 38/50\n",
            "22/22 [==============================] - 8s 360ms/step - loss: 0.9856 - accuracy: 0.6150 - val_loss: 0.9342 - val_accuracy: 0.6379\n",
            "Epoch 39/50\n",
            "22/22 [==============================] - 8s 352ms/step - loss: 0.9021 - accuracy: 0.6656 - val_loss: 0.9174 - val_accuracy: 0.6810\n",
            "Epoch 40/50\n",
            "22/22 [==============================] - 8s 358ms/step - loss: 0.9138 - accuracy: 0.6288 - val_loss: 1.0130 - val_accuracy: 0.6207\n",
            "Epoch 41/50\n",
            "22/22 [==============================] - 8s 352ms/step - loss: 0.9924 - accuracy: 0.6333 - val_loss: 0.9235 - val_accuracy: 0.6207\n",
            "Epoch 42/50\n",
            "22/22 [==============================] - 8s 353ms/step - loss: 0.9979 - accuracy: 0.6027 - val_loss: 0.8329 - val_accuracy: 0.6379\n",
            "Epoch 43/50\n",
            "22/22 [==============================] - 8s 354ms/step - loss: 0.9910 - accuracy: 0.5911 - val_loss: 0.8695 - val_accuracy: 0.6552\n",
            "Epoch 44/50\n",
            "22/22 [==============================] - 8s 352ms/step - loss: 0.9400 - accuracy: 0.6156 - val_loss: 0.8637 - val_accuracy: 0.6638\n",
            "Epoch 45/50\n",
            "22/22 [==============================] - 8s 356ms/step - loss: 0.9345 - accuracy: 0.6265 - val_loss: 0.9218 - val_accuracy: 0.6121\n",
            "Epoch 46/50\n",
            "22/22 [==============================] - 8s 358ms/step - loss: 0.9781 - accuracy: 0.6136 - val_loss: 0.9231 - val_accuracy: 0.6810\n",
            "Epoch 47/50\n",
            "22/22 [==============================] - 8s 355ms/step - loss: 0.9794 - accuracy: 0.6094 - val_loss: 0.8838 - val_accuracy: 0.6724\n",
            "Epoch 48/50\n",
            "22/22 [==============================] - 8s 355ms/step - loss: 0.9611 - accuracy: 0.6056 - val_loss: 0.8481 - val_accuracy: 0.6552\n",
            "Epoch 49/50\n",
            "22/22 [==============================] - 8s 359ms/step - loss: 0.9402 - accuracy: 0.6436 - val_loss: 0.8695 - val_accuracy: 0.6724\n",
            "Epoch 50/50\n",
            "22/22 [==============================] - 8s 355ms/step - loss: 0.9954 - accuracy: 0.6063 - val_loss: 0.8738 - val_accuracy: 0.6724\n"
          ],
          "name": "stdout"
        }
      ]
    },
    {
      "cell_type": "markdown",
      "metadata": {
        "id": "jqjpHJB2P8ft"
      },
      "source": [
        "Adjusting Optimizer again for slower learning rate"
      ]
    },
    {
      "cell_type": "code",
      "metadata": {
        "colab": {
          "base_uri": "https://localhost:8080/"
        },
        "id": "lEx1q2MR6VAa",
        "outputId": "9c864284-2662-4aaa-8002-2f4a4bed442e"
      },
      "source": [
        "for layer in mobileNet.layers:\n",
        "    layer.trainable = True\n",
        "\n",
        "opt = tf.keras.optimizers.Adam(learning_rate=0.000001)\n",
        "\n",
        "model.compile(optimizer=opt, loss=\"categorical_crossentropy\", metrics=[\"accuracy\"])\n",
        "model.summary()"
      ],
      "execution_count": null,
      "outputs": [
        {
          "output_type": "stream",
          "text": [
            "Model: \"sequential_2\"\n",
            "_________________________________________________________________\n",
            "Layer (type)                 Output Shape              Param #   \n",
            "=================================================================\n",
            "mobilenetv2_1.00_224 (Functi (None, 5, 5, 1280)        2257984   \n",
            "_________________________________________________________________\n",
            "flatten_2 (Flatten)          (None, 32000)             0         \n",
            "_________________________________________________________________\n",
            "dense_5 (Dense)              (None, 32)                1024032   \n",
            "_________________________________________________________________\n",
            "dropout_3 (Dropout)          (None, 32)                0         \n",
            "_________________________________________________________________\n",
            "dense_6 (Dense)              (None, 5)                 165       \n",
            "=================================================================\n",
            "Total params: 3,282,181\n",
            "Trainable params: 3,248,069\n",
            "Non-trainable params: 34,112\n",
            "_________________________________________________________________\n"
          ],
          "name": "stdout"
        }
      ]
    },
    {
      "cell_type": "markdown",
      "metadata": {
        "id": "qIyRausFQBdH"
      },
      "source": [
        "Training on slower learning rate for fine tuning"
      ]
    },
    {
      "cell_type": "code",
      "metadata": {
        "id": "08rhHZRr1aX-",
        "colab": {
          "base_uri": "https://localhost:8080/"
        },
        "outputId": "ad68ff10-3c88-4303-c15f-68f8905fc2e0"
      },
      "source": [
        "hist= model.fit(train_generator, validation_data = valid_generator, epochs = 50)"
      ],
      "execution_count": null,
      "outputs": [
        {
          "output_type": "stream",
          "text": [
            "Epoch 1/50\n",
            "22/22 [==============================] - 13s 411ms/step - loss: 0.9085 - accuracy: 0.6271 - val_loss: 0.8815 - val_accuracy: 0.6897\n",
            "Epoch 2/50\n",
            "22/22 [==============================] - 8s 358ms/step - loss: 0.9207 - accuracy: 0.6245 - val_loss: 0.8310 - val_accuracy: 0.6897\n",
            "Epoch 3/50\n",
            "22/22 [==============================] - 8s 359ms/step - loss: 0.9148 - accuracy: 0.6201 - val_loss: 0.9349 - val_accuracy: 0.6897\n",
            "Epoch 4/50\n",
            "22/22 [==============================] - 8s 355ms/step - loss: 0.9027 - accuracy: 0.6555 - val_loss: 0.8648 - val_accuracy: 0.6379\n",
            "Epoch 5/50\n",
            "22/22 [==============================] - 8s 352ms/step - loss: 0.9725 - accuracy: 0.5975 - val_loss: 0.8528 - val_accuracy: 0.6638\n",
            "Epoch 6/50\n",
            "22/22 [==============================] - 8s 369ms/step - loss: 0.9542 - accuracy: 0.6079 - val_loss: 0.8403 - val_accuracy: 0.6810\n",
            "Epoch 7/50\n",
            "22/22 [==============================] - 8s 370ms/step - loss: 0.9025 - accuracy: 0.6646 - val_loss: 0.8396 - val_accuracy: 0.6810\n",
            "Epoch 8/50\n",
            "22/22 [==============================] - 8s 362ms/step - loss: 0.9785 - accuracy: 0.6151 - val_loss: 0.9120 - val_accuracy: 0.6638\n",
            "Epoch 9/50\n",
            "22/22 [==============================] - 8s 364ms/step - loss: 0.9480 - accuracy: 0.6295 - val_loss: 0.8665 - val_accuracy: 0.6552\n",
            "Epoch 10/50\n",
            "22/22 [==============================] - 8s 367ms/step - loss: 0.9524 - accuracy: 0.6029 - val_loss: 0.9009 - val_accuracy: 0.7155\n",
            "Epoch 11/50\n",
            "22/22 [==============================] - 8s 366ms/step - loss: 0.9785 - accuracy: 0.6200 - val_loss: 0.8467 - val_accuracy: 0.6207\n",
            "Epoch 12/50\n",
            "22/22 [==============================] - 8s 378ms/step - loss: 0.9580 - accuracy: 0.6236 - val_loss: 0.8856 - val_accuracy: 0.6724\n",
            "Epoch 13/50\n",
            "22/22 [==============================] - 8s 352ms/step - loss: 0.9843 - accuracy: 0.6004 - val_loss: 0.8175 - val_accuracy: 0.6552\n",
            "Epoch 14/50\n",
            "22/22 [==============================] - 8s 369ms/step - loss: 0.9964 - accuracy: 0.6260 - val_loss: 0.7887 - val_accuracy: 0.6897\n",
            "Epoch 15/50\n",
            "22/22 [==============================] - 8s 366ms/step - loss: 0.8784 - accuracy: 0.6440 - val_loss: 0.8300 - val_accuracy: 0.6810\n",
            "Epoch 16/50\n",
            "22/22 [==============================] - 8s 364ms/step - loss: 0.9209 - accuracy: 0.6447 - val_loss: 0.7885 - val_accuracy: 0.7155\n",
            "Epoch 17/50\n",
            "22/22 [==============================] - 8s 367ms/step - loss: 0.8846 - accuracy: 0.6428 - val_loss: 0.8698 - val_accuracy: 0.6121\n",
            "Epoch 18/50\n",
            "22/22 [==============================] - 8s 361ms/step - loss: 0.8597 - accuracy: 0.6661 - val_loss: 0.7968 - val_accuracy: 0.6724\n",
            "Epoch 19/50\n",
            "22/22 [==============================] - 8s 361ms/step - loss: 0.9185 - accuracy: 0.6393 - val_loss: 0.8708 - val_accuracy: 0.7069\n",
            "Epoch 20/50\n",
            "22/22 [==============================] - 8s 362ms/step - loss: 0.9198 - accuracy: 0.6422 - val_loss: 0.8409 - val_accuracy: 0.6724\n",
            "Epoch 21/50\n",
            "22/22 [==============================] - 8s 358ms/step - loss: 0.9887 - accuracy: 0.6069 - val_loss: 0.8029 - val_accuracy: 0.6810\n",
            "Epoch 22/50\n",
            "22/22 [==============================] - 8s 355ms/step - loss: 0.9235 - accuracy: 0.6581 - val_loss: 0.8156 - val_accuracy: 0.6983\n",
            "Epoch 23/50\n",
            "22/22 [==============================] - 8s 355ms/step - loss: 0.8802 - accuracy: 0.6688 - val_loss: 0.8410 - val_accuracy: 0.6724\n",
            "Epoch 24/50\n",
            "22/22 [==============================] - 8s 371ms/step - loss: 0.9687 - accuracy: 0.5850 - val_loss: 0.8335 - val_accuracy: 0.7155\n",
            "Epoch 25/50\n",
            "22/22 [==============================] - 8s 350ms/step - loss: 0.9075 - accuracy: 0.6540 - val_loss: 0.8404 - val_accuracy: 0.6897\n",
            "Epoch 26/50\n",
            "22/22 [==============================] - 8s 361ms/step - loss: 0.8982 - accuracy: 0.6447 - val_loss: 0.8761 - val_accuracy: 0.6121\n",
            "Epoch 27/50\n",
            "22/22 [==============================] - 8s 351ms/step - loss: 0.8499 - accuracy: 0.6558 - val_loss: 0.8958 - val_accuracy: 0.6897\n",
            "Epoch 28/50\n",
            "22/22 [==============================] - 8s 356ms/step - loss: 0.9031 - accuracy: 0.6219 - val_loss: 0.7975 - val_accuracy: 0.6897\n",
            "Epoch 29/50\n",
            "22/22 [==============================] - 8s 355ms/step - loss: 0.9410 - accuracy: 0.6175 - val_loss: 0.8776 - val_accuracy: 0.6293\n",
            "Epoch 30/50\n",
            "22/22 [==============================] - 8s 357ms/step - loss: 0.9152 - accuracy: 0.6362 - val_loss: 0.8393 - val_accuracy: 0.6379\n",
            "Epoch 31/50\n",
            "22/22 [==============================] - 8s 358ms/step - loss: 0.9328 - accuracy: 0.5936 - val_loss: 0.8816 - val_accuracy: 0.6552\n",
            "Epoch 32/50\n",
            "22/22 [==============================] - 8s 359ms/step - loss: 0.8789 - accuracy: 0.6257 - val_loss: 0.7955 - val_accuracy: 0.6724\n",
            "Epoch 33/50\n",
            "22/22 [==============================] - 8s 359ms/step - loss: 0.9720 - accuracy: 0.5950 - val_loss: 0.7634 - val_accuracy: 0.6810\n",
            "Epoch 34/50\n",
            "22/22 [==============================] - 8s 365ms/step - loss: 0.9531 - accuracy: 0.6460 - val_loss: 0.8714 - val_accuracy: 0.6121\n",
            "Epoch 35/50\n",
            "22/22 [==============================] - 8s 361ms/step - loss: 0.9510 - accuracy: 0.6147 - val_loss: 0.8564 - val_accuracy: 0.6638\n",
            "Epoch 36/50\n",
            "22/22 [==============================] - 8s 363ms/step - loss: 0.9871 - accuracy: 0.6287 - val_loss: 0.8462 - val_accuracy: 0.6552\n",
            "Epoch 37/50\n",
            "22/22 [==============================] - 8s 364ms/step - loss: 0.8658 - accuracy: 0.6583 - val_loss: 0.9505 - val_accuracy: 0.5862\n",
            "Epoch 38/50\n",
            "22/22 [==============================] - 8s 359ms/step - loss: 0.9226 - accuracy: 0.6287 - val_loss: 0.8890 - val_accuracy: 0.6207\n",
            "Epoch 39/50\n",
            "22/22 [==============================] - 8s 359ms/step - loss: 0.9490 - accuracy: 0.6051 - val_loss: 0.7583 - val_accuracy: 0.6552\n",
            "Epoch 40/50\n",
            "22/22 [==============================] - 8s 360ms/step - loss: 0.9726 - accuracy: 0.6203 - val_loss: 0.8568 - val_accuracy: 0.6379\n",
            "Epoch 41/50\n",
            "22/22 [==============================] - 8s 358ms/step - loss: 0.9215 - accuracy: 0.6508 - val_loss: 0.8070 - val_accuracy: 0.6983\n",
            "Epoch 42/50\n",
            "22/22 [==============================] - 8s 356ms/step - loss: 0.9137 - accuracy: 0.6555 - val_loss: 0.8066 - val_accuracy: 0.7241\n",
            "Epoch 43/50\n",
            "22/22 [==============================] - 8s 349ms/step - loss: 0.9460 - accuracy: 0.6240 - val_loss: 0.7148 - val_accuracy: 0.7759\n",
            "Epoch 44/50\n",
            "22/22 [==============================] - 8s 361ms/step - loss: 0.8746 - accuracy: 0.6925 - val_loss: 0.8155 - val_accuracy: 0.6724\n",
            "Epoch 45/50\n",
            "22/22 [==============================] - 8s 356ms/step - loss: 0.9108 - accuracy: 0.6495 - val_loss: 0.7649 - val_accuracy: 0.7241\n",
            "Epoch 46/50\n",
            "22/22 [==============================] - 8s 359ms/step - loss: 0.9240 - accuracy: 0.6404 - val_loss: 0.8448 - val_accuracy: 0.6379\n",
            "Epoch 47/50\n",
            "22/22 [==============================] - 8s 363ms/step - loss: 0.8459 - accuracy: 0.6368 - val_loss: 0.8080 - val_accuracy: 0.7241\n",
            "Epoch 48/50\n",
            "22/22 [==============================] - 8s 358ms/step - loss: 0.9526 - accuracy: 0.6352 - val_loss: 0.8536 - val_accuracy: 0.6897\n",
            "Epoch 49/50\n",
            "22/22 [==============================] - 8s 359ms/step - loss: 0.8661 - accuracy: 0.6530 - val_loss: 0.7759 - val_accuracy: 0.6983\n",
            "Epoch 50/50\n",
            "22/22 [==============================] - 8s 364ms/step - loss: 0.8632 - accuracy: 0.6503 - val_loss: 0.8321 - val_accuracy: 0.6810\n"
          ],
          "name": "stdout"
        }
      ]
    },
    {
      "cell_type": "code",
      "metadata": {
        "colab": {
          "base_uri": "https://localhost:8080/"
        },
        "id": "-Ma8KpXM9nKa",
        "outputId": "32f76fb5-7587-446d-d38a-55961bb52ad3"
      },
      "source": [
        "opt = tf.keras.optimizers.Adam(learning_rate=0.00001)\n",
        "\n",
        "model.compile(optimizer=opt, loss=\"categorical_crossentropy\", metrics=[\"accuracy\"])\n",
        "model.summary()"
      ],
      "execution_count": null,
      "outputs": [
        {
          "output_type": "stream",
          "text": [
            "Model: \"sequential_2\"\n",
            "_________________________________________________________________\n",
            "Layer (type)                 Output Shape              Param #   \n",
            "=================================================================\n",
            "mobilenetv2_1.00_224 (Functi (None, 5, 5, 1280)        2257984   \n",
            "_________________________________________________________________\n",
            "flatten_2 (Flatten)          (None, 32000)             0         \n",
            "_________________________________________________________________\n",
            "dense_5 (Dense)              (None, 32)                1024032   \n",
            "_________________________________________________________________\n",
            "dropout_3 (Dropout)          (None, 32)                0         \n",
            "_________________________________________________________________\n",
            "dense_6 (Dense)              (None, 5)                 165       \n",
            "=================================================================\n",
            "Total params: 3,282,181\n",
            "Trainable params: 3,248,069\n",
            "Non-trainable params: 34,112\n",
            "_________________________________________________________________\n"
          ],
          "name": "stdout"
        }
      ]
    },
    {
      "cell_type": "code",
      "metadata": {
        "colab": {
          "base_uri": "https://localhost:8080/"
        },
        "id": "wdoTdX-Z7w8_",
        "outputId": "a4491477-e126-41d2-fb7b-8ea9ae1bb3b6"
      },
      "source": [
        "hist= model.fit(train_generator, validation_data = valid_generator, epochs = 50)"
      ],
      "execution_count": null,
      "outputs": [
        {
          "output_type": "stream",
          "text": [
            "Epoch 1/50\n",
            "22/22 [==============================] - 13s 420ms/step - loss: 0.1545 - accuracy: 0.9483 - val_loss: 1.1307 - val_accuracy: 0.7759\n",
            "Epoch 2/50\n",
            "22/22 [==============================] - 8s 340ms/step - loss: 0.1260 - accuracy: 0.9456 - val_loss: 0.7964 - val_accuracy: 0.8276\n",
            "Epoch 3/50\n",
            "22/22 [==============================] - 8s 364ms/step - loss: 0.1555 - accuracy: 0.9461 - val_loss: 1.1572 - val_accuracy: 0.8103\n",
            "Epoch 4/50\n",
            "22/22 [==============================] - 8s 356ms/step - loss: 0.1263 - accuracy: 0.9527 - val_loss: 0.9403 - val_accuracy: 0.8017\n",
            "Epoch 5/50\n",
            "22/22 [==============================] - 8s 371ms/step - loss: 0.2452 - accuracy: 0.9173 - val_loss: 0.9349 - val_accuracy: 0.7931\n",
            "Epoch 6/50\n",
            "22/22 [==============================] - 8s 360ms/step - loss: 0.1402 - accuracy: 0.9538 - val_loss: 0.9503 - val_accuracy: 0.7931\n",
            "Epoch 7/50\n",
            "22/22 [==============================] - 8s 363ms/step - loss: 0.1224 - accuracy: 0.9578 - val_loss: 1.2996 - val_accuracy: 0.7672\n",
            "Epoch 8/50\n",
            "22/22 [==============================] - 8s 358ms/step - loss: 0.2531 - accuracy: 0.9109 - val_loss: 1.0807 - val_accuracy: 0.7586\n",
            "Epoch 9/50\n",
            "22/22 [==============================] - 8s 363ms/step - loss: 0.2030 - accuracy: 0.9274 - val_loss: 0.7447 - val_accuracy: 0.8190\n",
            "Epoch 10/50\n",
            "22/22 [==============================] - 8s 354ms/step - loss: 0.1428 - accuracy: 0.9501 - val_loss: 1.1423 - val_accuracy: 0.8362\n",
            "Epoch 11/50\n",
            "22/22 [==============================] - 8s 360ms/step - loss: 0.1662 - accuracy: 0.9419 - val_loss: 0.9973 - val_accuracy: 0.7845\n",
            "Epoch 12/50\n",
            "22/22 [==============================] - 8s 372ms/step - loss: 0.3234 - accuracy: 0.9157 - val_loss: 1.1006 - val_accuracy: 0.7931\n",
            "Epoch 13/50\n",
            "22/22 [==============================] - 8s 358ms/step - loss: 0.1521 - accuracy: 0.9629 - val_loss: 0.9238 - val_accuracy: 0.7672\n",
            "Epoch 14/50\n",
            "22/22 [==============================] - 8s 358ms/step - loss: 0.1501 - accuracy: 0.9485 - val_loss: 1.0969 - val_accuracy: 0.7931\n",
            "Epoch 15/50\n",
            "22/22 [==============================] - 8s 359ms/step - loss: 0.1385 - accuracy: 0.9597 - val_loss: 1.0417 - val_accuracy: 0.7931\n",
            "Epoch 16/50\n",
            "22/22 [==============================] - 8s 360ms/step - loss: 0.1604 - accuracy: 0.9561 - val_loss: 0.9758 - val_accuracy: 0.8017\n",
            "Epoch 17/50\n",
            "22/22 [==============================] - 8s 341ms/step - loss: 0.1577 - accuracy: 0.9488 - val_loss: 1.2755 - val_accuracy: 0.7586\n",
            "Epoch 18/50\n",
            "22/22 [==============================] - 8s 359ms/step - loss: 0.1039 - accuracy: 0.9601 - val_loss: 1.0282 - val_accuracy: 0.7759\n",
            "Epoch 19/50\n",
            "22/22 [==============================] - 8s 352ms/step - loss: 0.1136 - accuracy: 0.9566 - val_loss: 1.0814 - val_accuracy: 0.7759\n",
            "Epoch 20/50\n",
            "22/22 [==============================] - 8s 364ms/step - loss: 0.1574 - accuracy: 0.9481 - val_loss: 0.8772 - val_accuracy: 0.7845\n",
            "Epoch 21/50\n",
            "22/22 [==============================] - 8s 361ms/step - loss: 0.1142 - accuracy: 0.9679 - val_loss: 1.0447 - val_accuracy: 0.7845\n",
            "Epoch 22/50\n",
            "22/22 [==============================] - 8s 364ms/step - loss: 0.1705 - accuracy: 0.9476 - val_loss: 1.3502 - val_accuracy: 0.7672\n",
            "Epoch 23/50\n",
            "22/22 [==============================] - 8s 360ms/step - loss: 0.1326 - accuracy: 0.9622 - val_loss: 1.2320 - val_accuracy: 0.7672\n",
            "Epoch 24/50\n",
            "22/22 [==============================] - 8s 354ms/step - loss: 0.1354 - accuracy: 0.9524 - val_loss: 1.0215 - val_accuracy: 0.7759\n",
            "Epoch 25/50\n",
            "22/22 [==============================] - 8s 358ms/step - loss: 0.1307 - accuracy: 0.9500 - val_loss: 1.4021 - val_accuracy: 0.7500\n",
            "Epoch 26/50\n",
            "22/22 [==============================] - 8s 361ms/step - loss: 0.1465 - accuracy: 0.9484 - val_loss: 1.2913 - val_accuracy: 0.7241\n",
            "Epoch 27/50\n",
            "22/22 [==============================] - 8s 358ms/step - loss: 0.1155 - accuracy: 0.9526 - val_loss: 0.9996 - val_accuracy: 0.7672\n",
            "Epoch 28/50\n",
            "22/22 [==============================] - 8s 331ms/step - loss: 0.1153 - accuracy: 0.9598 - val_loss: 1.0251 - val_accuracy: 0.8017\n",
            "Epoch 29/50\n",
            "22/22 [==============================] - 8s 357ms/step - loss: 0.0986 - accuracy: 0.9675 - val_loss: 1.2596 - val_accuracy: 0.7845\n",
            "Epoch 30/50\n",
            "22/22 [==============================] - 8s 359ms/step - loss: 0.1136 - accuracy: 0.9490 - val_loss: 1.1649 - val_accuracy: 0.8017\n",
            "Epoch 31/50\n",
            "22/22 [==============================] - 8s 353ms/step - loss: 0.1768 - accuracy: 0.9476 - val_loss: 0.8531 - val_accuracy: 0.8103\n",
            "Epoch 32/50\n",
            "22/22 [==============================] - 8s 360ms/step - loss: 0.1583 - accuracy: 0.9424 - val_loss: 1.2586 - val_accuracy: 0.7672\n",
            "Epoch 33/50\n",
            "22/22 [==============================] - 8s 346ms/step - loss: 0.1152 - accuracy: 0.9507 - val_loss: 0.9993 - val_accuracy: 0.7672\n",
            "Epoch 34/50\n",
            "22/22 [==============================] - 8s 360ms/step - loss: 0.1347 - accuracy: 0.9626 - val_loss: 0.9302 - val_accuracy: 0.7931\n",
            "Epoch 35/50\n",
            "22/22 [==============================] - 8s 361ms/step - loss: 0.1363 - accuracy: 0.9594 - val_loss: 0.8714 - val_accuracy: 0.7845\n",
            "Epoch 36/50\n",
            "22/22 [==============================] - 8s 358ms/step - loss: 0.1067 - accuracy: 0.9680 - val_loss: 1.1498 - val_accuracy: 0.7672\n",
            "Epoch 37/50\n",
            "22/22 [==============================] - 8s 358ms/step - loss: 0.1359 - accuracy: 0.9537 - val_loss: 1.0654 - val_accuracy: 0.7759\n",
            "Epoch 38/50\n",
            "22/22 [==============================] - 8s 357ms/step - loss: 0.1428 - accuracy: 0.9526 - val_loss: 0.9927 - val_accuracy: 0.7759\n",
            "Epoch 39/50\n",
            "22/22 [==============================] - 8s 369ms/step - loss: 0.1646 - accuracy: 0.9073 - val_loss: 1.2484 - val_accuracy: 0.8190\n",
            "Epoch 40/50\n",
            "22/22 [==============================] - 8s 363ms/step - loss: 0.1027 - accuracy: 0.9700 - val_loss: 1.1297 - val_accuracy: 0.7931\n",
            "Epoch 41/50\n",
            "22/22 [==============================] - 8s 339ms/step - loss: 0.0948 - accuracy: 0.9748 - val_loss: 0.8669 - val_accuracy: 0.8103\n",
            "Epoch 42/50\n",
            "22/22 [==============================] - 8s 362ms/step - loss: 0.0986 - accuracy: 0.9673 - val_loss: 1.0787 - val_accuracy: 0.7845\n",
            "Epoch 43/50\n",
            "22/22 [==============================] - 8s 372ms/step - loss: 0.2349 - accuracy: 0.9084 - val_loss: 1.0735 - val_accuracy: 0.7759\n",
            "Epoch 44/50\n",
            "22/22 [==============================] - 8s 362ms/step - loss: 0.1847 - accuracy: 0.9229 - val_loss: 1.0052 - val_accuracy: 0.7845\n",
            "Epoch 45/50\n",
            "22/22 [==============================] - 8s 361ms/step - loss: 0.1464 - accuracy: 0.9504 - val_loss: 1.0644 - val_accuracy: 0.7845\n",
            "Epoch 46/50\n",
            "22/22 [==============================] - 8s 363ms/step - loss: 0.1222 - accuracy: 0.9563 - val_loss: 1.2146 - val_accuracy: 0.7759\n",
            "Epoch 47/50\n",
            "22/22 [==============================] - 8s 356ms/step - loss: 0.1326 - accuracy: 0.9404 - val_loss: 1.1109 - val_accuracy: 0.7845\n",
            "Epoch 48/50\n",
            "22/22 [==============================] - 8s 350ms/step - loss: 0.1405 - accuracy: 0.9435 - val_loss: 0.9316 - val_accuracy: 0.8190\n",
            "Epoch 49/50\n",
            "22/22 [==============================] - 8s 360ms/step - loss: 0.1473 - accuracy: 0.9513 - val_loss: 1.1958 - val_accuracy: 0.7586\n",
            "Epoch 50/50\n",
            "22/22 [==============================] - 8s 362ms/step - loss: 0.1735 - accuracy: 0.9467 - val_loss: 1.2116 - val_accuracy: 0.7672\n"
          ],
          "name": "stdout"
        }
      ]
    },
    {
      "cell_type": "markdown",
      "metadata": {
        "id": "EDTPQ4zlQGpd"
      },
      "source": [
        "Final Stats"
      ]
    },
    {
      "cell_type": "code",
      "metadata": {
        "colab": {
          "base_uri": "https://localhost:8080/"
        },
        "id": "P1G5robigyTt",
        "outputId": "92d8757f-904b-4ba0-983c-a6181e1ac733"
      },
      "source": [
        "final_loss, final_accuracy = model.evaluate(valid_generator)\n",
        "print(\"Final Validation loss: {:.2f}\".format(final_loss))\n",
        "print(\"Final Validation accuracy: {:.2f}%\".format(final_accuracy * 100))\n",
        "\n",
        "final_loss, final_accuracy = model.evaluate(train_generator)\n",
        "print(\"Final training loss: {:.2f}\".format(final_loss))\n",
        "print(\"Final training accuracy: {:.2f}%\".format(final_accuracy * 100))"
      ],
      "execution_count": null,
      "outputs": [
        {
          "output_type": "stream",
          "text": [
            "4/4 [==============================] - 1s 305ms/step - loss: 0.7183 - accuracy: 0.8276\n",
            "Final Validation loss: 0.72\n",
            "Final Validation accuracy: 82.76%\n",
            "22/22 [==============================] - 6s 273ms/step - loss: 0.0357 - accuracy: 0.9896\n",
            "Final training loss: 0.04\n",
            "Final training accuracy: 98.96%\n"
          ],
          "name": "stdout"
        }
      ]
    },
    {
      "cell_type": "markdown",
      "metadata": {
        "id": "Vn3bIrS7QIme"
      },
      "source": [
        "Saving Model"
      ]
    },
    {
      "cell_type": "code",
      "metadata": {
        "id": "80TCnkz-g0ym"
      },
      "source": [
        "model.save('/content/gdrive/MyDrive/Infections/infection_model_v2.5.h5')"
      ],
      "execution_count": null,
      "outputs": []
    },
    {
      "cell_type": "markdown",
      "metadata": {
        "id": "Gmvpl6sfNqgX"
      },
      "source": [
        "Prediction on Validation Set"
      ]
    },
    {
      "cell_type": "code",
      "metadata": {
        "colab": {
          "base_uri": "https://localhost:8080/"
        },
        "id": "eHWuMSqnOAsM",
        "outputId": "253786e8-9186-4bd3-f93d-46b6d29895c4"
      },
      "source": [
        "import numpy as np\n",
        "\n",
        "val_image_batch, val_label_batch = next(iter(valid_generator))\n",
        "true_label_ids = np.argmax(val_label_batch, axis=-1)\n",
        "print(\"Validation batch shape:\", val_image_batch.shape)"
      ],
      "execution_count": null,
      "outputs": [
        {
          "output_type": "stream",
          "text": [
            "Validation batch shape: (32, 150, 150, 3)\n"
          ],
          "name": "stdout"
        }
      ]
    },
    {
      "cell_type": "code",
      "metadata": {
        "colab": {
          "base_uri": "https://localhost:8080/"
        },
        "id": "-xx1ZeoCOLdc",
        "outputId": "d83c3e03-5007-416b-85b4-4a596fb5e6a9"
      },
      "source": [
        "dataset_labels = sorted(train_generator.class_indices.items(), key=lambda pair:pair[1])\n",
        "dataset_labels = np.array([key.title() for key, value in dataset_labels])\n",
        "print(dataset_labels)"
      ],
      "execution_count": null,
      "outputs": [
        {
          "output_type": "stream",
          "text": [
            "['Blepharitis' 'Cellulitis Eye' 'Conjunctivitis, Pink Eye' 'Eye'\n",
            " 'Hordeolum, Stye']\n"
          ],
          "name": "stdout"
        }
      ]
    },
    {
      "cell_type": "code",
      "metadata": {
        "colab": {
          "base_uri": "https://localhost:8080/"
        },
        "id": "YChOYzx8NqLN",
        "outputId": "288023ea-c128-4ab5-db05-92a16be39edf"
      },
      "source": [
        "tf_model_predictions = model.predict(val_image_batch)\n",
        "print(\"Prediction results shape:\", tf_model_predictions.shape)\n",
        "print(tf_model_predictions)\n",
        "predicted_ids = np.argmax(tf_model_predictions, axis=-1)\n",
        "predicted_labels = dataset_labels[predicted_ids]\n",
        "print(predicted_labels)"
      ],
      "execution_count": null,
      "outputs": [
        {
          "output_type": "stream",
          "text": [
            "Prediction results shape: (32, 5)\n",
            "[[1.11890696e-02 5.54975748e-01 1.43679703e-04 1.91179069e-03\n",
            "  4.31779683e-01]\n",
            " [5.09586253e-12 1.16555066e-09 2.99375031e-08 1.00000000e+00\n",
            "  3.19376134e-08]\n",
            " [1.96978566e-12 1.00000000e+00 4.50140425e-10 1.91115635e-12\n",
            "  1.31474067e-08]\n",
            " [3.32312938e-03 6.78713404e-05 8.47166521e-04 5.85179623e-05\n",
            "  9.95703280e-01]\n",
            " [1.85604231e-03 2.04600915e-01 7.34460627e-05 1.27571897e-04\n",
            "  7.93341994e-01]\n",
            " [7.11561415e-06 2.34162304e-04 1.58641109e-04 1.09614735e-03\n",
            "  9.98503923e-01]\n",
            " [2.21225317e-04 1.14122686e-05 9.99663949e-01 4.21737823e-05\n",
            "  6.12696313e-05]\n",
            " [9.85490680e-01 3.76331968e-06 1.44295339e-02 7.19598975e-05\n",
            "  4.13697171e-06]\n",
            " [3.20747660e-13 1.00000000e+00 3.11273251e-13 4.70478564e-15\n",
            "  6.36770974e-12]\n",
            " [9.86473083e-01 1.98478345e-03 9.55302501e-04 3.95063224e-04\n",
            "  1.01917787e-02]\n",
            " [3.53542446e-21 1.32684179e-17 5.22400082e-14 1.00000000e+00\n",
            "  6.40264595e-17]\n",
            " [6.90964271e-06 9.99968052e-01 1.66723312e-05 7.18181496e-08\n",
            "  8.30196768e-06]\n",
            " [4.02595006e-08 9.99999881e-01 4.93136532e-10 1.86941254e-10\n",
            "  1.45828395e-07]\n",
            " [9.37180885e-04 9.86433864e-01 5.72646513e-06 5.53327845e-06\n",
            "  1.26175955e-02]\n",
            " [4.79372628e-02 1.48678906e-02 9.92964581e-02 1.90779015e-01\n",
            "  6.47119403e-01]\n",
            " [5.29330410e-02 3.38281244e-02 7.30811208e-02 7.77528405e-01\n",
            "  6.26292825e-02]\n",
            " [2.93042604e-11 2.64143820e-14 1.00000000e+00 4.70083889e-15\n",
            "  3.97652506e-13]\n",
            " [2.16314402e-05 5.57053818e-06 9.99968290e-01 4.19190246e-06\n",
            "  3.05333884e-07]\n",
            " [1.91939868e-15 1.12195832e-12 2.01799168e-11 1.00000000e+00\n",
            "  1.81684651e-13]\n",
            " [5.65334558e-05 4.32604924e-04 2.85311043e-02 9.66759086e-01\n",
            "  4.22073109e-03]\n",
            " [7.55517959e-08 7.32922636e-05 2.30914393e-05 1.18029936e-06\n",
            "  9.99902368e-01]\n",
            " [9.93782103e-01 3.65987391e-04 3.93352704e-04 7.22097000e-04\n",
            "  4.73646168e-03]\n",
            " [1.69063132e-04 2.07482744e-03 1.92127214e-03 2.11256696e-03\n",
            "  9.93722260e-01]\n",
            " [9.95469809e-01 6.85744362e-06 4.70561281e-05 2.09208025e-04\n",
            "  4.26711142e-03]\n",
            " [8.90140785e-25 2.19729396e-17 5.88877157e-17 1.00000000e+00\n",
            "  6.51454405e-18]\n",
            " [9.82110141e-05 5.84083963e-08 1.21838024e-08 1.29129730e-05\n",
            "  9.99888778e-01]\n",
            " [7.25778690e-08 3.39434706e-07 1.46404316e-04 9.99845862e-01\n",
            "  7.44392173e-06]\n",
            " [1.85912466e-15 5.63910585e-10 1.96297284e-10 1.00000000e+00\n",
            "  5.90804183e-10]\n",
            " [4.86326257e-10 1.61150222e-08 7.91893981e-08 9.99999881e-01\n",
            "  5.76389390e-08]\n",
            " [2.77454342e-06 9.98903394e-01 4.21123468e-06 2.49712821e-06\n",
            "  1.08723785e-03]\n",
            " [5.96715808e-02 2.47714831e-03 4.96221182e-05 1.01923099e-04\n",
            "  9.37699676e-01]\n",
            " [9.44996715e-01 5.61627885e-03 1.45076187e-02 1.38140807e-03\n",
            "  3.34979445e-02]]\n",
            "['Cellulitis Eye' 'Eye' 'Cellulitis Eye' 'Hordeolum, Stye'\n",
            " 'Hordeolum, Stye' 'Hordeolum, Stye' 'Conjunctivitis, Pink Eye'\n",
            " 'Blepharitis' 'Cellulitis Eye' 'Blepharitis' 'Eye' 'Cellulitis Eye'\n",
            " 'Cellulitis Eye' 'Cellulitis Eye' 'Hordeolum, Stye' 'Eye'\n",
            " 'Conjunctivitis, Pink Eye' 'Conjunctivitis, Pink Eye' 'Eye' 'Eye'\n",
            " 'Hordeolum, Stye' 'Blepharitis' 'Hordeolum, Stye' 'Blepharitis' 'Eye'\n",
            " 'Hordeolum, Stye' 'Eye' 'Eye' 'Eye' 'Cellulitis Eye' 'Hordeolum, Stye'\n",
            " 'Blepharitis']\n"
          ],
          "name": "stdout"
        }
      ]
    },
    {
      "cell_type": "code",
      "metadata": {
        "colab": {
          "base_uri": "https://localhost:8080/",
          "height": 393
        },
        "id": "NQ4ZK94iNhkc",
        "outputId": "9bd0110b-b170-477d-88d1-42df544f6521"
      },
      "source": [
        "import matplotlib.pyplot as plt\n",
        "plt.figure(figsize=(10,9))\n",
        "plt.subplots_adjust(hspace=0.5)\n",
        "for n in range((len(predicted_labels)-2)):\n",
        "  plt.subplot(8,6,n+1)\n",
        "  plt.imshow(val_image_batch[n])\n",
        "  color = \"green\" if predicted_ids[n] == true_label_ids[n] else \"red\"\n",
        "  plt.title(predicted_labels[n].title(), color=color)\n",
        "  plt.axis('off')\n",
        "_ = plt.suptitle(\"Model predictions (green: correct, red: incorrect)\")"
      ],
      "execution_count": null,
      "outputs": [
        {
          "output_type": "display_data",
          "data": {
            "image/png": "[encoded data removed]",
            "text/plain": [
              "<Figure size 720x648 with 30 Axes>"
            ]
          },
          "metadata": {
            "tags": [],
            "needs_background": "light"
          }
        }
      ]
    },
    {
      "cell_type": "markdown",
      "metadata": {
        "id": "UPhHsD_mQpws"
      },
      "source": [
        "Testing Model"
      ]
    },
    {
      "cell_type": "code",
      "metadata": {
        "id": "0eFMfCgpQq6M"
      },
      "source": [
        "from keras.preprocessing.image import load_img\n",
        " \n",
        "image = load_img('/content/gdrive/MyDrive/Infections/Test Images/Cell.jpeg', target_size=(150,150))\n"
      ],
      "execution_count": null,
      "outputs": []
    },
    {
      "cell_type": "code",
      "metadata": {
        "id": "Z258xJnLQtzy"
      },
      "source": [
        "from keras.preprocessing.image import img_to_array\n",
        "# convert the image pixels to a numpy array\n",
        "image = img_to_array(image)\n",
        "#image = np.repeat(image, 3, 2)"
      ],
      "execution_count": null,
      "outputs": []
    },
    {
      "cell_type": "code",
      "metadata": {
        "colab": {
          "base_uri": "https://localhost:8080/"
        },
        "id": "D-SNX5daQu4g",
        "outputId": "9030c11f-ae73-4128-ef57-f8196332545f"
      },
      "source": [
        "image = np.expand_dims(image,axis=0)\n",
        "image = np.array(image)/255.0\n",
        "print(image.shape)"
      ],
      "execution_count": null,
      "outputs": [
        {
          "output_type": "stream",
          "text": [
            "(1, 150, 150, 3)\n"
          ],
          "name": "stdout"
        }
      ]
    },
    {
      "cell_type": "code",
      "metadata": {
        "colab": {
          "base_uri": "https://localhost:8080/"
        },
        "id": "GKE_54E8QwDm",
        "outputId": "52478eb9-54f5-43f8-8848-5767ae0d1b9a"
      },
      "source": [
        "pred = model.predict(image)\n",
        "print(pred.shape)\n",
        "print (pred)"
      ],
      "execution_count": null,
      "outputs": [
        {
          "output_type": "stream",
          "text": [
            "(1, 5)\n",
            "[[4.8816949e-03 9.6760726e-01 6.9175308e-05 6.9940317e-04 2.6742440e-02]]\n"
          ],
          "name": "stdout"
        }
      ]
    },
    {
      "cell_type": "code",
      "metadata": {
        "colab": {
          "base_uri": "https://localhost:8080/"
        },
        "id": "WKCI9HMkQxPj",
        "outputId": "5167f1f8-b497-4d61-eba1-df88dce90d3a"
      },
      "source": [
        "predicted_id = np.argmax(pred, axis=-1)\n",
        "predicted_labels = dataset_labels[predicted_id]\n",
        "print(predicted_labels)"
      ],
      "execution_count": null,
      "outputs": [
        {
          "output_type": "stream",
          "text": [
            "['Cellulitis Eye']\n"
          ],
          "name": "stdout"
        }
      ]
    }
  ]
}